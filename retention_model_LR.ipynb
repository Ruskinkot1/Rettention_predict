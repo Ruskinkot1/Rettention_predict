{
  "nbformat": 4,
  "nbformat_minor": 0,
  "metadata": {
    "colab": {
      "name": "retention_model.ipynb",
      "version": "0.3.2",
      "provenance": [],
      "collapsed_sections": []
    },
    "kernelspec": {
      "name": "python3",
      "display_name": "Python 3"
    },
    "accelerator": "GPU"
  },
  "cells": [
    {
      "cell_type": "code",
      "metadata": {
        "id": "UDI4IgBN75uh",
        "colab_type": "code",
        "colab": {}
      },
      "source": [
        "\n",
        "from google.colab import drive\n",
        "drive.mount('/content/drive')"
      ],
      "execution_count": 0,
      "outputs": []
    },
    {
      "cell_type": "code",
      "metadata": {
        "id": "M02MwIysBRN-",
        "colab_type": "code",
        "colab": {}
      },
      "source": [
        "!mkdir -p drive\n",
        "!google-drive-ocamlfuse drive"
      ],
      "execution_count": 0,
      "outputs": []
    },
    {
      "cell_type": "code",
      "metadata": {
        "id": "rPcdJdCM8YVy",
        "colab_type": "code",
        "colab": {}
      },
      "source": [
        "path = \"drive/My Drive/logistic.txt\""
      ],
      "execution_count": 0,
      "outputs": []
    },
    {
      "cell_type": "code",
      "metadata": {
        "id": "wtEzAj198x4B",
        "colab_type": "code",
        "colab": {}
      },
      "source": [
        "!pip install PyDrive"
      ],
      "execution_count": 0,
      "outputs": []
    },
    {
      "cell_type": "code",
      "metadata": {
        "id": "5eiFUAfL85y4",
        "colab_type": "code",
        "colab": {}
      },
      "source": [
        "import os\n",
        "from pydrive.auth import GoogleAuth\n",
        "from pydrive.drive import GoogleDrive\n",
        "from google.colab import auth\n",
        "from oauth2client.client import GoogleCredentials"
      ],
      "execution_count": 0,
      "outputs": []
    },
    {
      "cell_type": "code",
      "metadata": {
        "id": "zkiaPoD18_K1",
        "colab_type": "code",
        "colab": {}
      },
      "source": [
        "from pydrive.auth import GoogleAuth\n",
        "auth.authenticate_user()\n",
        "gauth = GoogleAuth()\n"
      ],
      "execution_count": 0,
      "outputs": []
    },
    {
      "cell_type": "code",
      "metadata": {
        "id": "75SJgkol9A1n",
        "colab_type": "code",
        "colab": {}
      },
      "source": [
        "gauth.credentials = GoogleCredentials.get_application_default()\n",
        "auth.authenticate_user()\n",
        "gauth = GoogleAuth()\n",
        "gauth.credentials = GoogleCredentials.get_application_default()\n",
        "drive = GoogleDrive(gauth)\n"
      ],
      "execution_count": 0,
      "outputs": []
    },
    {
      "cell_type": "code",
      "metadata": {
        "id": "9nwtS-G79V4F",
        "colab_type": "code",
        "colab": {}
      },
      "source": [
        "download = drive.CreateFile({'id': '1-Oduujt-fDn-Gkuc29uXSCrf1ejqTp6b'}) #visitors pool for 04_12_18 with choosen features"
      ],
      "execution_count": 0,
      "outputs": []
    },
    {
      "cell_type": "code",
      "metadata": {
        "id": "J_OvuDRZ9jVo",
        "colab_type": "code",
        "colab": {}
      },
      "source": [
        "download.GetContentFile('DOWNLOAD.json')"
      ],
      "execution_count": 0,
      "outputs": []
    },
    {
      "cell_type": "code",
      "metadata": {
        "id": "Uxhd3qYf90lz",
        "colab_type": "code",
        "colab": {}
      },
      "source": [
        "import pandas as pd\n",
        "import numpy as np\n",
        "from datetime import datetime\n",
        "from dateutil.relativedelta import relativedelta"
      ],
      "execution_count": 0,
      "outputs": []
    },
    {
      "cell_type": "code",
      "metadata": {
        "id": "zVQPkt6B98EI",
        "colab_type": "code",
        "colab": {}
      },
      "source": [
        "import warnings\n",
        "warnings.simplefilter(action='ignore', category=FutureWarning)"
      ],
      "execution_count": 0,
      "outputs": []
    },
    {
      "cell_type": "code",
      "metadata": {
        "id": "_H13YYb59_IH",
        "colab_type": "code",
        "colab": {}
      },
      "source": [
        "df=pd.read_json('DOWNLOAD.json', lines=True)"
      ],
      "execution_count": 0,
      "outputs": []
    },
    {
      "cell_type": "code",
      "metadata": {
        "id": "t2D2VWhowmno",
        "colab_type": "code",
        "colab": {}
      },
      "source": [
        "download_05 = drive.CreateFile({'id': '1RzwqLZb62wYMnqsRT9o_QA3yd949-g4W'}) #visitors pool for next day 05_12_18 with only browserId and unixTimestamp columns"
      ],
      "execution_count": 0,
      "outputs": []
    },
    {
      "cell_type": "code",
      "metadata": {
        "id": "pDdrLAiEwuKU",
        "colab_type": "code",
        "colab": {}
      },
      "source": [
        "download_05.GetContentFile('DOWNLOAD.json')"
      ],
      "execution_count": 0,
      "outputs": []
    },
    {
      "cell_type": "code",
      "metadata": {
        "id": "dUMsLzTL-Bb4",
        "colab_type": "code",
        "colab": {}
      },
      "source": [
        "visits=pd.read_json('DOWNLOAD.json', lines=True)"
      ],
      "execution_count": 0,
      "outputs": []
    },
    {
      "cell_type": "code",
      "metadata": {
        "id": "X9FwKx8Fw3zQ",
        "colab_type": "code",
        "colab": {}
      },
      "source": [
        "df.describe()"
      ],
      "execution_count": 0,
      "outputs": []
    },
    {
      "cell_type": "code",
      "metadata": {
        "id": "D55rVAHrw7TK",
        "colab_type": "code",
        "colab": {}
      },
      "source": [
        "df.columns"
      ],
      "execution_count": 0,
      "outputs": []
    },
    {
      "cell_type": "code",
      "metadata": {
        "id": "o5sciFZXxDNp",
        "colab_type": "code",
        "colab": {}
      },
      "source": [
        "visitors=visits['browserId']"
      ],
      "execution_count": 0,
      "outputs": []
    },
    {
      "cell_type": "code",
      "metadata": {
        "id": "5ImsUUmsxM5h",
        "colab_type": "code",
        "colab": {}
      },
      "source": [
        "visitors #the list of visitors on the next day, First-time visitors are excluded"
      ],
      "execution_count": 0,
      "outputs": []
    },
    {
      "cell_type": "code",
      "metadata": {
        "id": "XyRt_FqSxXjp",
        "colab_type": "code",
        "colab": {}
      },
      "source": [
        "retention = df['browserId'].isin(visitors) #determine visitors who returns next day with 'True' value\n",
        "df['Ret']=retention"
      ],
      "execution_count": 0,
      "outputs": []
    },
    {
      "cell_type": "code",
      "metadata": {
        "id": "WiQQrdM5yLOS",
        "colab_type": "code",
        "colab": {}
      },
      "source": [
        "df"
      ],
      "execution_count": 0,
      "outputs": []
    },
    {
      "cell_type": "code",
      "metadata": {
        "id": "wJ7tcNsMyOHG",
        "colab_type": "code",
        "colab": {}
      },
      "source": [
        "sum(df['Ret']) #true values"
      ],
      "execution_count": 0,
      "outputs": []
    },
    {
      "cell_type": "code",
      "metadata": {
        "id": "fZSw0hKFycIg",
        "colab_type": "code",
        "colab": {}
      },
      "source": [
        "len(df['Ret'])-sum(df['Ret']) #false values, we see that data is unbalanced"
      ],
      "execution_count": 0,
      "outputs": []
    },
    {
      "cell_type": "code",
      "metadata": {
        "id": "7HTmUAquzPen",
        "colab_type": "code",
        "colab": {}
      },
      "source": [
        "from sklearn.feature_extraction.text import CountVectorizer\n",
        "from sklearn.model_selection import cross_val_score, cross_val_predict\n",
        "from sklearn import metrics\n",
        "from sklearn.model_selection import train_test_split\n",
        "from sklearn import linear_model\n",
        "from sklearn.linear_model import LogisticRegression\n",
        "import featuretools as ft"
      ],
      "execution_count": 0,
      "outputs": []
    },
    {
      "cell_type": "code",
      "metadata": {
        "id": "CPpQ1OXZzgyi",
        "colab_type": "code",
        "colab": {}
      },
      "source": [
        "df_majority = df[df['Ret']==False] #balancing our dataset\n",
        "df_minority = df[df['Ret']==True]\n",
        "# resample minority class\n",
        "\n",
        "from sklearn.utils import resample\n",
        "df_majority_upsampled = resample(df_majority, \n",
        "                                 replace=True,     \n",
        "                                 n_samples=43219, random_state=123)   \n",
        "df_up = pd.concat([df_minority, df_majority_upsampled])\n",
        "df_up['Ret'].value_counts() #resampled dataframe"
      ],
      "execution_count": 0,
      "outputs": []
    },
    {
      "cell_type": "code",
      "metadata": {
        "id": "TAnnZLZBzqxO",
        "colab_type": "code",
        "colab": {}
      },
      "source": [
        "X = df_up['contentAuthor'] #one feature as input\n",
        "Y = df_up['Ret']\n",
        "X_train, X_test, Y_train, Y_test = train_test_split(X, Y, test_size=0.33)\n",
        "cvec = CountVectorizer(stop_words='english').fit(X_train) #in this work we will use 3 embedding alghorithms, CountVectorizer is the first\n",
        "df_train=pd.DataFrame(cvec.transform(X_train).todense(), columns=cvec.get_feature_names())\n",
        "df_test=pd.DataFrame(cvec.transform(X_test).todense(), columns=cvec.get_feature_names())"
      ],
      "execution_count": 0,
      "outputs": []
    },
    {
      "cell_type": "code",
      "metadata": {
        "id": "yK2mR_3Tz5K6",
        "colab_type": "code",
        "colab": {}
      },
      "source": [
        "lr = LogisticRegression(penalty='l1') #logistic regression for sparse matrice\n",
        "lr.fit(df_train, Y_train)\n",
        "lr.score(df_test, Y_test) "
      ],
      "execution_count": 0,
      "outputs": []
    },
    {
      "cell_type": "code",
      "metadata": {
        "id": "Z0gc90EQ0zRC",
        "colab_type": "code",
        "colab": {}
      },
      "source": [
        "lr = LogisticRegression()\n",
        "lr.fit(df_train, Y_train)\n",
        "lr.score(df_test, Y_test) #Spoiler: actually the best score in this job\n"
      ],
      "execution_count": 0,
      "outputs": []
    },
    {
      "cell_type": "code",
      "metadata": {
        "id": "WRoQKvrm05RV",
        "colab_type": "code",
        "colab": {}
      },
      "source": [
        "\n",
        "dfna=df_up.dropna()\n",
        "X1=dfna['adblockerStatus']\n",
        "X2=dfna['browser']\n",
        "X3=dfna['city']\n",
        "\n",
        "X5=dfna['contentAuthor']\n",
        "X6=dfna['contentSection']\n",
        "\n",
        "X8=dfna['region']\n",
        "Y=dfna['Ret']\n",
        "X2=cvec.fit_transform(X2)\n",
        "X3=cvec.fit_transform(X3)\n",
        "\n",
        "X5=cvec.fit_transform(X5)\n",
        "X6=cvec.fit_transform(X6)\n",
        "\n",
        "X8=cvec.fit_transform(X8)\n",
        "from scipy.sparse import coo_matrix, vstack, hstack\n",
        "X=hstack([X2, X3, X5, X6, X8])"
      ],
      "execution_count": 0,
      "outputs": []
    },
    {
      "cell_type": "code",
      "metadata": {
        "id": "B8Cg9fqN1JfT",
        "colab_type": "code",
        "colab": {}
      },
      "source": [
        "(X_train, X_test) = train_test_split(X)\n",
        "(Y_train, Y_test) = train_test_split(Y)"
      ],
      "execution_count": 0,
      "outputs": []
    },
    {
      "cell_type": "code",
      "metadata": {
        "id": "IaV5lofMrTne",
        "colab_type": "code",
        "colab": {}
      },
      "source": [
        ""
      ],
      "execution_count": 0,
      "outputs": []
    },
    {
      "cell_type": "code",
      "metadata": {
        "id": "esR5dugj2Mu8",
        "colab_type": "code",
        "colab": {}
      },
      "source": [
        "lr = LogisticRegression(penalty='l1') \n",
        "lr.fit(X_train, Y_train)\n",
        "lr.score(X_test, Y_test)"
      ],
      "execution_count": 0,
      "outputs": []
    },
    {
      "cell_type": "code",
      "metadata": {
        "id": "ZI1h66O52Pu3",
        "colab_type": "code",
        "colab": {}
      },
      "source": [
        "from sklearn import tree #decision tree alghorithm\n",
        "clf = tree.DecisionTreeClassifier(class_weight=None, criterion='gini', max_depth=3,\n",
        "            max_features=None, max_leaf_nodes=None, min_samples_leaf=5,\n",
        "            min_samples_split=2, min_weight_fraction_leaf=0.0,\n",
        "            presort=False, random_state=100, splitter='best')\n",
        "clf = clf.fit(X_train, Y_train)"
      ],
      "execution_count": 0,
      "outputs": []
    },
    {
      "cell_type": "code",
      "metadata": {
        "id": "lnTCkwQz5ziI",
        "colab_type": "code",
        "colab": {}
      },
      "source": [
        "from sklearn.model_selection import cross_val_score\n",
        "from sklearn.metrics import accuracy_score\n",
        "Y_pred=clf.predict(X_test)"
      ],
      "execution_count": 0,
      "outputs": []
    },
    {
      "cell_type": "code",
      "metadata": {
        "id": "gjaYo5ZK6VdB",
        "colab_type": "code",
        "colab": {}
      },
      "source": [
        "accuracy_score(Y_test, Y_pred, normalize=True) #not the best score with multiple categorial features"
      ],
      "execution_count": 0,
      "outputs": []
    },
    {
      "cell_type": "code",
      "metadata": {
        "id": "bIup8VPt6XKN",
        "colab_type": "code",
        "colab": {}
      },
      "source": [
        "X = df_up['contentAuthor'] \n",
        "Y = df_up['Ret']\n",
        "X_train, X_test, Y_train, Y_test = train_test_split(X, Y, test_size=0.33)\n",
        "cvec = CountVectorizer(stop_words='english').fit(X_train)\n",
        "df_train=pd.DataFrame(cvec.transform(X_train).todense(), columns=cvec.get_feature_names())\n",
        "df_test=pd.DataFrame(cvec.transform(X_test).todense(), columns=cvec.get_feature_names())\n",
        "a_train=pd.DataFrame(cvec.transform(X_train).todense(), columns=cvec.get_feature_names())\n"
      ],
      "execution_count": 0,
      "outputs": []
    },
    {
      "cell_type": "code",
      "metadata": {
        "id": "H91I1jJw6t-x",
        "colab_type": "code",
        "colab": {}
      },
      "source": [
        "clf = clf.fit(df_train, Y_train)"
      ],
      "execution_count": 0,
      "outputs": []
    },
    {
      "cell_type": "code",
      "metadata": {
        "id": "mXiuLQd46xBv",
        "colab_type": "code",
        "colab": {}
      },
      "source": [
        "Y_pred=clf.predict(df_test) #randomforest classifier for contentAuthor feature"
      ],
      "execution_count": 0,
      "outputs": []
    },
    {
      "cell_type": "code",
      "metadata": {
        "id": "rELtaGp_61WK",
        "colab_type": "code",
        "colab": {}
      },
      "source": [
        "accuracy_score(Y_test, Y_pred, normalize=True) "
      ],
      "execution_count": 0,
      "outputs": []
    },
    {
      "cell_type": "code",
      "metadata": {
        "id": "xN0zw6iqm2bI",
        "colab_type": "code",
        "colab": {
          "base_uri": "https://localhost:8080/",
          "height": 34
        },
        "outputId": "3d086e8b-aafe-4104-c814-b1d89b6fd735"
      },
      "source": [
        "from sklearn.feature_extraction.text import TfidfVectorizer\n",
        "X=dfna['contentAuthor']\n",
        "X=vectorizer.fit_transform(X)\n",
        "X_train, X_test, Y_train, Y_test = train_test_split(X, Y, test_size=0.33)\n",
        "lr.fit(X_train, Y_train)\n",
        "lr.score(X_test, Y_test)"
      ],
      "execution_count": 213,
      "outputs": [
        {
          "output_type": "execute_result",
          "data": {
            "text/plain": [
              "0.5980572433642469"
            ]
          },
          "metadata": {
            "tags": []
          },
          "execution_count": 213
        }
      ]
    },
    {
      "cell_type": "code",
      "metadata": {
        "id": "JWVOMccl63ra",
        "colab_type": "code",
        "colab": {}
      },
      "source": [
        "!pip install category_encoders\n",
        "import category_encoders as ce\n",
        "ce_binary = ce.BinaryEncoder(cols = ['contentAuthor'])"
      ],
      "execution_count": 0,
      "outputs": []
    },
    {
      "cell_type": "code",
      "metadata": {
        "id": "11aleOlQ9Ceh",
        "colab_type": "code",
        "colab": {}
      },
      "source": [
        "x=df_up['contentAuthor']\n",
        "y=df_up['Ret']\n",
        "x=ce_binary.fit_transform(x) #binary encoder as alternate to TF-Idf, Tf and CVEC encoders"
      ],
      "execution_count": 0,
      "outputs": []
    },
    {
      "cell_type": "code",
      "metadata": {
        "id": "ot0qNnge9p2z",
        "colab_type": "code",
        "colab": {}
      },
      "source": [
        "X_train, X_test, Y_train, Y_test = train_test_split(x, y, test_size=0.33)"
      ],
      "execution_count": 0,
      "outputs": []
    },
    {
      "cell_type": "code",
      "metadata": {
        "id": "y5pQHcur-LZu",
        "colab_type": "code",
        "colab": {}
      },
      "source": [
        "clf = clf.fit(X_train, Y_train)"
      ],
      "execution_count": 0,
      "outputs": []
    },
    {
      "cell_type": "code",
      "metadata": {
        "id": "y8xgHXMc-Ogv",
        "colab_type": "code",
        "colab": {}
      },
      "source": [
        "Y_pred=clf.predict(X_test)"
      ],
      "execution_count": 0,
      "outputs": []
    },
    {
      "cell_type": "code",
      "metadata": {
        "id": "KQjtVXXlAwbK",
        "colab_type": "code",
        "colab": {}
      },
      "source": [
        "accuracy_score(Y_test, Y_pred, normalize=True)"
      ],
      "execution_count": 0,
      "outputs": []
    },
    {
      "cell_type": "code",
      "metadata": {
        "id": "-RkY9xvyC3NM",
        "colab_type": "code",
        "colab": {}
      },
      "source": [
        "lr.fit(X_train, Y_train)\n",
        "lr.score(X_test, Y_test)"
      ],
      "execution_count": 0,
      "outputs": []
    },
    {
      "cell_type": "code",
      "metadata": {
        "id": "l2s1rnlnAy3s",
        "colab_type": "code",
        "colab": {}
      },
      "source": [
        "x=df_up['contentSection']\n",
        "y=df_up['Ret']\n",
        "ce_binary = ce.BinaryEncoder(cols = ['contentSection'])\n",
        "x=ce_binary.fit_transform(x)"
      ],
      "execution_count": 0,
      "outputs": []
    },
    {
      "cell_type": "code",
      "metadata": {
        "id": "_FMhsAR9BRwI",
        "colab_type": "code",
        "colab": {}
      },
      "source": [
        "X_train, X_test, Y_train, Y_test = train_test_split(x, y, test_size=0.33)\n",
        "clf = clf.fit(X_train, Y_train)\n",
        "Y_pred=clf.predict(X_test)\n",
        "accuracy_score(Y_test, Y_pred, normalize=True)"
      ],
      "execution_count": 0,
      "outputs": []
    },
    {
      "cell_type": "code",
      "metadata": {
        "id": "Xz6VSxxEDGyQ",
        "colab_type": "code",
        "colab": {}
      },
      "source": [
        "lr.fit(X_train, Y_train)\n",
        "lr.score(X_test, Y_test)"
      ],
      "execution_count": 0,
      "outputs": []
    },
    {
      "cell_type": "code",
      "metadata": {
        "id": "TBm7F_gLBYEk",
        "colab_type": "code",
        "colab": {}
      },
      "source": [
        "from sklearn.feature_extraction.text import TfidfVectorizer\n",
        "X=dfna['contentSection']\n",
        "X=vectorizer.fit_transform(X)\n",
        "X_train, X_test, Y_train, Y_test = train_test_split(X, Y, test_size=0.33)\n"
      ],
      "execution_count": 0,
      "outputs": []
    },
    {
      "cell_type": "code",
      "metadata": {
        "id": "TVYn1XuhnMex",
        "colab_type": "code",
        "colab": {
          "base_uri": "https://localhost:8080/",
          "height": 34
        },
        "outputId": "6e2c0640-3c2b-4d1d-95eb-d55b7113bfc3"
      },
      "source": [
        "lr.fit(X_train, Y_train)\n",
        "lr.score(X_test, Y_test)"
      ],
      "execution_count": 212,
      "outputs": [
        {
          "output_type": "execute_result",
          "data": {
            "text/plain": [
              "0.5986968340262232"
            ]
          },
          "metadata": {
            "tags": []
          },
          "execution_count": 212
        }
      ]
    },
    {
      "cell_type": "code",
      "metadata": {
        "id": "NwdCWjHLB729",
        "colab_type": "code",
        "colab": {}
      },
      "source": [
        "x=df_up['contentSection']\n",
        "y=df_up['Ret']\n",
        "ce_binary = ce.BinaryEncoder(cols = ['contentSection'])\n",
        "x=ce_binary.fit_transform(x)"
      ],
      "execution_count": 0,
      "outputs": []
    },
    {
      "cell_type": "code",
      "metadata": {
        "id": "B5PfOvW8CCeu",
        "colab_type": "code",
        "colab": {}
      },
      "source": [
        "X_train, X_test, Y_train, Y_test = train_test_split(x, y, test_size=0.33)\n",
        "clf = clf.fit(X_train, Y_train)\n",
        "Y_pred=clf.predict(X_test)\n",
        "accuracy_score(Y_test, Y_pred, normalize=True)"
      ],
      "execution_count": 0,
      "outputs": []
    },
    {
      "cell_type": "code",
      "metadata": {
        "id": "FkYIlS5fYjo5",
        "colab_type": "code",
        "colab": {}
      },
      "source": [
        "from sklearn.naive_bayes import GaussianNB\n",
        "model = GaussianNB() #naive Bayes Alghorithm\n"
      ],
      "execution_count": 0,
      "outputs": []
    },
    {
      "cell_type": "code",
      "metadata": {
        "id": "KkLP3SGie_TR",
        "colab_type": "code",
        "colab": {}
      },
      "source": [
        "model.fit(X_train, Y_train)"
      ],
      "execution_count": 0,
      "outputs": []
    },
    {
      "cell_type": "code",
      "metadata": {
        "id": "zdWcKdKxfIS2",
        "colab_type": "code",
        "colab": {}
      },
      "source": [
        "Y_pred=model.predict(X_test)\n",
        "accuracy_score(Y_test, Y_pred, normalize=True)"
      ],
      "execution_count": 0,
      "outputs": []
    },
    {
      "cell_type": "code",
      "metadata": {
        "id": "R14PivZ4fThY",
        "colab_type": "code",
        "colab": {}
      },
      "source": [
        "dfna=df_up.dropna()\n",
        "X1=dfna['adblockerStatus']\n",
        "X2=dfna['browser']\n",
        "X3=dfna['city']\n",
        "X4=dfna['contentAuthor']\n",
        "X5=dfna['contentSection']\n",
        "X6=dfna['browser']\n",
        "\n",
        "X8=dfna['region']\n",
        "Y=dfna['Ret']\n",
        "\n",
        "X2=cvec.fit_transform(X2)\n",
        "X3=cvec.fit_transform(X3)\n",
        "X4=cvec.fit_transform(X4)\n",
        "X5=cvec.fit_transform(X5)\n",
        "X6=cvec.fit_transform(X6)\n",
        "\n",
        "X8=cvec.fit_transform(X8)\n",
        "from scipy.sparse import coo_matrix, vstack, hstack\n",
        "X=hstack([X2, X3, X4, X5, X6, X8])"
      ],
      "execution_count": 0,
      "outputs": []
    },
    {
      "cell_type": "code",
      "metadata": {
        "id": "Txvooti2f9Fh",
        "colab_type": "code",
        "colab": {}
      },
      "source": [
        "X_train, X_test, Y_train, Y_test = train_test_split(x, y, test_size=0.33)\n",
        "clf = clf.fit(X_train, Y_train)\n",
        "Y_pred=clf.predict(X_test)\n",
        "accuracy_score(Y_test, Y_pred, normalize=True)"
      ],
      "execution_count": 0,
      "outputs": []
    },
    {
      "cell_type": "code",
      "metadata": {
        "id": "Y3IpPJ_XgH74",
        "colab_type": "code",
        "colab": {}
      },
      "source": [
        "model.fit(X_train, Y_train)\n",
        "Y_pred=model.predict(X_test)\n",
        "accuracy_score(Y_test, Y_pred, normalize=True)"
      ],
      "execution_count": 0,
      "outputs": []
    },
    {
      "cell_type": "code",
      "metadata": {
        "id": "1uA-1taqgMoL",
        "colab_type": "code",
        "colab": {}
      },
      "source": [
        "lr.fit(X_train, Y_train)\n",
        "lr.score(X_test, Y_test)"
      ],
      "execution_count": 0,
      "outputs": []
    },
    {
      "cell_type": "code",
      "metadata": {
        "id": "Ckb6aQ7mgQp5",
        "colab_type": "code",
        "colab": {}
      },
      "source": [
        "from sklearn.neighbors import KNeighborsClassifier #knn for multiple features\n",
        "neigh = KNeighborsClassifier(n_neighbors=8)\n",
        "neigh.fit(X_train, Y_train) "
      ],
      "execution_count": 0,
      "outputs": []
    },
    {
      "cell_type": "code",
      "metadata": {
        "id": "uEjrtIWjgmd6",
        "colab_type": "code",
        "colab": {}
      },
      "source": [
        "Y_pred=neigh.predict(X_test) \n",
        "accuracy_score(Y_test, Y_pred, normalize=True)"
      ],
      "execution_count": 0,
      "outputs": []
    },
    {
      "cell_type": "code",
      "metadata": {
        "id": "SOPhvHUtkLQr",
        "colab_type": "code",
        "colab": {}
      },
      "source": [
        "from sklearn.feature_extraction.text import TfidfVectorizer #TF-IDF for embedding\n",
        "vectorizer = TfidfVectorizer()\n",
        "X1=dfna['adblockerStatus']\n",
        "X2=dfna['browser']\n",
        "X3=dfna['city']\n",
        "X4=dfna['contentAuthor']\n",
        "X5=dfna['contentSection']\n",
        "X6=dfna['browser']\n",
        "X8=dfna['region']\n",
        "Y=dfna['Ret']\n",
        "\n",
        "X2=vectorizer.fit_transform(X2)\n",
        "X3=vectorizer.fit_transform(X3)\n",
        "X4=vectorizer.fit_transform(X4)\n",
        "X5=vectorizer.fit_transform(X5)\n",
        "X6=vectorizer.fit_transform(X6)\n",
        "X8=vectorizer.fit_transform(X8)\n",
        "from scipy.sparse import coo_matrix, vstack, hstack\n",
        "X=hstack([X2, X3, X4, X5, X6, X8])"
      ],
      "execution_count": 0,
      "outputs": []
    },
    {
      "cell_type": "code",
      "metadata": {
        "id": "tJJzHADSkLXV",
        "colab_type": "code",
        "colab": {}
      },
      "source": [
        "X_train, X_test, Y_train, Y_test = train_test_split(x, y, test_size=0.33)\n",
        "clf = clf.fit(X_train, Y_train)\n",
        "Y_pred=clf.predict(X_test)\n",
        "accuracy_score(Y_test, Y_pred, normalize=True)"
      ],
      "execution_count": 0,
      "outputs": []
    },
    {
      "cell_type": "code",
      "metadata": {
        "id": "fReTLRjtkLd7",
        "colab_type": "code",
        "colab": {}
      },
      "source": [
        "model.fit(X_train, Y_train)\n",
        "Y_pred=model.predict(X_test)\n",
        "accuracy_score(Y_test, Y_pred, normalize=True)"
      ],
      "execution_count": 0,
      "outputs": []
    },
    {
      "cell_type": "code",
      "metadata": {
        "id": "hPTmt2ZilNQ-",
        "colab_type": "code",
        "colab": {}
      },
      "source": [
        "neigh.fit(X_train, Y_train)\n",
        "Y_pred=neigh.predict(X_test)\n",
        "accuracy_score(Y_test, Y_pred, normalize=True)"
      ],
      "execution_count": 0,
      "outputs": []
    },
    {
      "cell_type": "code",
      "metadata": {
        "id": "HPuNz-dflgUz",
        "colab_type": "code",
        "colab": {
          "base_uri": "https://localhost:8080/",
          "height": 34
        },
        "outputId": "d286c0c8-2559-41a4-8ff4-b2af7c93c15e"
      },
      "source": [
        "lr.fit(X_train, Y_train)\n",
        "Y_pred=lr.predict(X_test)\n",
        "accuracy_score(Y_test, Y_pred, normalize=True)"
      ],
      "execution_count": 202,
      "outputs": [
        {
          "output_type": "execute_result",
          "data": {
            "text/plain": [
              "0.5859421560035057"
            ]
          },
          "metadata": {
            "tags": []
          },
          "execution_count": 202
        }
      ]
    },
    {
      "cell_type": "code",
      "metadata": {
        "id": "oy7M8hb_hrKP",
        "colab_type": "code",
        "colab": {}
      },
      "source": [
        "from sklearn.feature_extraction.text import FeatureHasher #feature hashing\n",
        "hasher = FeatureHasher(input_type='string')\n",
        "\n",
        "X1=dfna['adblockerStatus']\n",
        "X2=dfna['browser']\n",
        "X3=dfna['city']\n",
        "X4=dfna['contentAuthor']\n",
        "X5=dfna['contentSection']\n",
        "X6=dfna['browser']\n",
        "X8=dfna['region']\n",
        "Y=dfna['Ret']\n",
        "\n",
        "X2=hasher.fit_transform(X2)\n",
        "X3=hasher.fit_transform(X3)\n",
        "X4=hasher.fit_transform(X4)\n",
        "X5=hasher.fit_transform(X5)\n",
        "X6=hasher.fit_transform(X6)\n",
        "X8=hasher.fit_transform(X8)\n",
        "from scipy.sparse import coo_matrix, vstack, hstack\n",
        "X=hstack([X2, X3, X4, X5, X6, X8])"
      ],
      "execution_count": 0,
      "outputs": []
    },
    {
      "cell_type": "code",
      "metadata": {
        "id": "zPk_4IxNmdcL",
        "colab_type": "code",
        "colab": {
          "base_uri": "https://localhost:8080/",
          "height": 34
        },
        "outputId": "3e134db1-6426-412d-c052-bf9fe32f9340"
      },
      "source": [
        "X_train, X_test, Y_train, Y_test = train_test_split(x, y, test_size=0.33) #for all of  the 5 alghorithms\n",
        "clf = clf.fit(X_train, Y_train)\n",
        "Y_pred=clf.predict(X_test)\n",
        "accuracy_score(Y_test, Y_pred, normalize=True)"
      ],
      "execution_count": 205,
      "outputs": [
        {
          "output_type": "execute_result",
          "data": {
            "text/plain": [
              "0.5846450482033304"
            ]
          },
          "metadata": {
            "tags": []
          },
          "execution_count": 205
        }
      ]
    },
    {
      "cell_type": "code",
      "metadata": {
        "id": "9IyJcNxImik1",
        "colab_type": "code",
        "colab": {
          "base_uri": "https://localhost:8080/",
          "height": 34
        },
        "outputId": "b0aa05a3-6b09-4843-c073-004784b0abce"
      },
      "source": [
        "model.fit(X_train, Y_train)\n",
        "Y_pred=model.predict(X_test)\n",
        "accuracy_score(Y_test, Y_pred, normalize=True)"
      ],
      "execution_count": 206,
      "outputs": [
        {
          "output_type": "execute_result",
          "data": {
            "text/plain": [
              "0.5448904469763366"
            ]
          },
          "metadata": {
            "tags": []
          },
          "execution_count": 206
        }
      ]
    },
    {
      "cell_type": "code",
      "metadata": {
        "id": "2mCGcQ4UmliP",
        "colab_type": "code",
        "colab": {
          "base_uri": "https://localhost:8080/",
          "height": 34
        },
        "outputId": "147ccdbc-02c0-4740-e81a-57963f69104f"
      },
      "source": [
        "neigh.fit(X_train, Y_train)\n",
        "Y_pred=neigh.predict(X_test)\n",
        "accuracy_score(Y_test, Y_pred, normalize=True)"
      ],
      "execution_count": 207,
      "outputs": [
        {
          "output_type": "execute_result",
          "data": {
            "text/plain": [
              "0.5912007011393514"
            ]
          },
          "metadata": {
            "tags": []
          },
          "execution_count": 207
        }
      ]
    },
    {
      "cell_type": "code",
      "metadata": {
        "id": "_a_iYjzXmna4",
        "colab_type": "code",
        "colab": {
          "base_uri": "https://localhost:8080/",
          "height": 34
        },
        "outputId": "5c67619b-9259-45a5-971b-75d1d718f074"
      },
      "source": [
        "lr.fit(X_train, Y_train)\n",
        "Y_pred=lr.predict(X_test)\n",
        "accuracy_score(Y_test, Y_pred, normalize=True)"
      ],
      "execution_count": 208,
      "outputs": [
        {
          "output_type": "execute_result",
          "data": {
            "text/plain": [
              "0.5933742331288343"
            ]
          },
          "metadata": {
            "tags": []
          },
          "execution_count": 208
        }
      ]
    },
    {
      "cell_type": "code",
      "metadata": {
        "id": "0M4udCg8mpME",
        "colab_type": "code",
        "colab": {
          "base_uri": "https://localhost:8080/",
          "height": 34
        },
        "outputId": "cbb80178-5474-4cfe-b9c8-3c5a6adb227a"
      },
      "source": [
        "X=dfna['hour']\n",
        "X_train, X_test, Y_train, Y_test = train_test_split(x, y, test_size=0.33)\n",
        "clf = clf.fit(X_train, Y_train)\n",
        "Y_pred=clf.predict(X_test)\n",
        "accuracy_score(Y_test, Y_pred, normalize=True)\n",
        "\n"
      ],
      "execution_count": 218,
      "outputs": [
        {
          "output_type": "execute_result",
          "data": {
            "text/plain": [
              "0.5779141104294478"
            ]
          },
          "metadata": {
            "tags": []
          },
          "execution_count": 218
        }
      ]
    },
    {
      "cell_type": "code",
      "metadata": {
        "id": "8aFS1DFxoE9s",
        "colab_type": "code",
        "colab": {}
      },
      "source": [
        ""
      ],
      "execution_count": 0,
      "outputs": []
    }
  ]
}