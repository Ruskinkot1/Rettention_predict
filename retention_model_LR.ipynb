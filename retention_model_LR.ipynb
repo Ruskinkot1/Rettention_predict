{
  "nbformat": 4,
  "nbformat_minor": 0,
  "metadata": {
    "colab": {
      "name": "retention_model.ipynb",
      "version": "0.3.2",
      "provenance": [],
      "collapsed_sections": []
    },
    "kernelspec": {
      "name": "python3",
      "display_name": "Python 3"
    },
    "accelerator": "GPU"
  },
  "cells": [
    {
      "cell_type": "code",
      "metadata": {
        "id": "UDI4IgBN75uh",
        "colab_type": "code",
        "colab": {
          "base_uri": "https://localhost:8080/",
          "height": 122
        },
        "outputId": "29b2cf9f-5075-4b1f-f57a-233478370997"
      },
      "source": [
        "\n",
        "from google.colab import drive\n",
        "drive.mount('/content/drive')"
      ],
      "execution_count": 1,
      "outputs": [
        {
          "output_type": "stream",
          "text": [
            "Go to this URL in a browser: https://accounts.google.com/o/oauth2/auth?client_id=947318989803-6bn6qk8qdgf4n4g3pfee6491hc0brc4i.apps.googleusercontent.com&redirect_uri=urn%3Aietf%3Awg%3Aoauth%3A2.0%3Aoob&scope=email%20https%3A%2F%2Fwww.googleapis.com%2Fauth%2Fdocs.test%20https%3A%2F%2Fwww.googleapis.com%2Fauth%2Fdrive%20https%3A%2F%2Fwww.googleapis.com%2Fauth%2Fdrive.photos.readonly%20https%3A%2F%2Fwww.googleapis.com%2Fauth%2Fpeopleapi.readonly&response_type=code\n",
            "\n",
            "Enter your authorization code:\n",
            "··········\n",
            "Mounted at /content/drive\n"
          ],
          "name": "stdout"
        }
      ]
    },
    {
      "cell_type": "code",
      "metadata": {
        "id": "M02MwIysBRN-",
        "colab_type": "code",
        "colab": {
          "base_uri": "https://localhost:8080/",
          "height": 34
        },
        "outputId": "83793c80-d8d2-45d6-ee5a-61a70d30394f"
      },
      "source": [
        "!mkdir -p drive\n",
        "!google-drive-ocamlfuse drive"
      ],
      "execution_count": 2,
      "outputs": [
        {
          "output_type": "stream",
          "text": [
            "/bin/bash: google-drive-ocamlfuse: command not found\n"
          ],
          "name": "stdout"
        }
      ]
    },
    {
      "cell_type": "code",
      "metadata": {
        "id": "rPcdJdCM8YVy",
        "colab_type": "code",
        "colab": {}
      },
      "source": [
        "path = \"drive/My Drive/logistic.txt\""
      ],
      "execution_count": 0,
      "outputs": []
    },
    {
      "cell_type": "code",
      "metadata": {
        "id": "wtEzAj198x4B",
        "colab_type": "code",
        "colab": {
          "base_uri": "https://localhost:8080/",
          "height": 394
        },
        "outputId": "dbe750f5-9dd8-4492-cfec-64b823f2d482"
      },
      "source": [
        "!pip install PyDrive"
      ],
      "execution_count": 4,
      "outputs": [
        {
          "output_type": "stream",
          "text": [
            "Collecting PyDrive\n",
            "\u001b[?25l  Downloading https://files.pythonhosted.org/packages/52/e0/0e64788e5dd58ce2d6934549676243dc69d982f198524be9b99e9c2a4fd5/PyDrive-1.3.1.tar.gz (987kB)\n",
            "\u001b[K     |████████████████████████████████| 993kB 3.3MB/s \n",
            "\u001b[?25hRequirement already satisfied: google-api-python-client>=1.2 in /usr/local/lib/python3.6/dist-packages (from PyDrive) (1.7.9)\n",
            "Requirement already satisfied: oauth2client>=4.0.0 in /usr/local/lib/python3.6/dist-packages (from PyDrive) (4.1.3)\n",
            "Requirement already satisfied: PyYAML>=3.0 in /usr/local/lib/python3.6/dist-packages (from PyDrive) (3.13)\n",
            "Requirement already satisfied: google-auth-httplib2>=0.0.3 in /usr/local/lib/python3.6/dist-packages (from google-api-python-client>=1.2->PyDrive) (0.0.3)\n",
            "Requirement already satisfied: google-auth>=1.4.1 in /usr/local/lib/python3.6/dist-packages (from google-api-python-client>=1.2->PyDrive) (1.4.2)\n",
            "Requirement already satisfied: httplib2<1dev,>=0.9.2 in /usr/local/lib/python3.6/dist-packages (from google-api-python-client>=1.2->PyDrive) (0.11.3)\n",
            "Requirement already satisfied: uritemplate<4dev,>=3.0.0 in /usr/local/lib/python3.6/dist-packages (from google-api-python-client>=1.2->PyDrive) (3.0.0)\n",
            "Requirement already satisfied: six<2dev,>=1.6.1 in /usr/local/lib/python3.6/dist-packages (from google-api-python-client>=1.2->PyDrive) (1.12.0)\n",
            "Requirement already satisfied: pyasn1>=0.1.7 in /usr/local/lib/python3.6/dist-packages (from oauth2client>=4.0.0->PyDrive) (0.4.5)\n",
            "Requirement already satisfied: pyasn1-modules>=0.0.5 in /usr/local/lib/python3.6/dist-packages (from oauth2client>=4.0.0->PyDrive) (0.2.5)\n",
            "Requirement already satisfied: rsa>=3.1.4 in /usr/local/lib/python3.6/dist-packages (from oauth2client>=4.0.0->PyDrive) (4.0)\n",
            "Requirement already satisfied: cachetools>=2.0.0 in /usr/local/lib/python3.6/dist-packages (from google-auth>=1.4.1->google-api-python-client>=1.2->PyDrive) (3.1.1)\n",
            "Building wheels for collected packages: PyDrive\n",
            "  Building wheel for PyDrive (setup.py) ... \u001b[?25l\u001b[?25hdone\n",
            "  Stored in directory: /root/.cache/pip/wheels/fa/d2/9a/d3b6b506c2da98289e5d417215ce34b696db856643bad779f4\n",
            "Successfully built PyDrive\n",
            "Installing collected packages: PyDrive\n",
            "Successfully installed PyDrive-1.3.1\n"
          ],
          "name": "stdout"
        }
      ]
    },
    {
      "cell_type": "code",
      "metadata": {
        "id": "5eiFUAfL85y4",
        "colab_type": "code",
        "colab": {}
      },
      "source": [
        "import os\n",
        "from pydrive.auth import GoogleAuth\n",
        "from pydrive.drive import GoogleDrive\n",
        "from google.colab import auth\n",
        "from oauth2client.client import GoogleCredentials"
      ],
      "execution_count": 0,
      "outputs": []
    },
    {
      "cell_type": "code",
      "metadata": {
        "id": "zkiaPoD18_K1",
        "colab_type": "code",
        "colab": {}
      },
      "source": [
        "from pydrive.auth import GoogleAuth\n",
        "auth.authenticate_user()\n",
        "gauth = GoogleAuth()\n"
      ],
      "execution_count": 0,
      "outputs": []
    },
    {
      "cell_type": "code",
      "metadata": {
        "id": "75SJgkol9A1n",
        "colab_type": "code",
        "colab": {}
      },
      "source": [
        "gauth.credentials = GoogleCredentials.get_application_default()\n",
        "auth.authenticate_user()\n",
        "gauth = GoogleAuth()\n",
        "gauth.credentials = GoogleCredentials.get_application_default()\n",
        "drive = GoogleDrive(gauth)\n"
      ],
      "execution_count": 0,
      "outputs": []
    },
    {
      "cell_type": "code",
      "metadata": {
        "id": "9nwtS-G79V4F",
        "colab_type": "code",
        "colab": {}
      },
      "source": [
        "download = drive.CreateFile({'id': '1-Oduujt-fDn-Gkuc29uXSCrf1ejqTp6b'}) #visitors pool for 04_12_18 with choosen features"
      ],
      "execution_count": 0,
      "outputs": []
    },
    {
      "cell_type": "code",
      "metadata": {
        "id": "J_OvuDRZ9jVo",
        "colab_type": "code",
        "colab": {}
      },
      "source": [
        "download.GetContentFile('DOWNLOAD.json')"
      ],
      "execution_count": 0,
      "outputs": []
    },
    {
      "cell_type": "code",
      "metadata": {
        "id": "Uxhd3qYf90lz",
        "colab_type": "code",
        "colab": {}
      },
      "source": [
        "import pandas as pd\n",
        "import numpy as np\n",
        "from datetime import datetime\n",
        "from dateutil.relativedelta import relativedelta"
      ],
      "execution_count": 0,
      "outputs": []
    },
    {
      "cell_type": "code",
      "metadata": {
        "id": "zVQPkt6B98EI",
        "colab_type": "code",
        "colab": {}
      },
      "source": [
        "import warnings\n",
        "warnings.simplefilter(action='ignore', category=FutureWarning)"
      ],
      "execution_count": 0,
      "outputs": []
    },
    {
      "cell_type": "code",
      "metadata": {
        "id": "_H13YYb59_IH",
        "colab_type": "code",
        "colab": {}
      },
      "source": [
        "df=pd.read_json('DOWNLOAD.json', lines=True)"
      ],
      "execution_count": 0,
      "outputs": []
    },
    {
      "cell_type": "code",
      "metadata": {
        "id": "t2D2VWhowmno",
        "colab_type": "code",
        "colab": {}
      },
      "source": [
        "download_05 = drive.CreateFile({'id': '1RzwqLZb62wYMnqsRT9o_QA3yd949-g4W'}) #visitors pool for next day 05_12_18 with only browserId and unixTimestamp columns"
      ],
      "execution_count": 0,
      "outputs": []
    },
    {
      "cell_type": "code",
      "metadata": {
        "id": "pDdrLAiEwuKU",
        "colab_type": "code",
        "colab": {}
      },
      "source": [
        "download_05.GetContentFile('DOWNLOAD.json')"
      ],
      "execution_count": 0,
      "outputs": []
    },
    {
      "cell_type": "code",
      "metadata": {
        "id": "dUMsLzTL-Bb4",
        "colab_type": "code",
        "colab": {}
      },
      "source": [
        "visits=pd.read_json('DOWNLOAD.json', lines=True)"
      ],
      "execution_count": 0,
      "outputs": []
    },
    {
      "cell_type": "code",
      "metadata": {
        "id": "X9FwKx8Fw3zQ",
        "colab_type": "code",
        "colab": {
          "base_uri": "https://localhost:8080/",
          "height": 297
        },
        "outputId": "babf3dcb-3d85-4b38-cff8-360bcdbacc09"
      },
      "source": [
        "df.describe()"
      ],
      "execution_count": 18,
      "outputs": [
        {
          "output_type": "execute_result",
          "data": {
            "text/html": [
              "<div>\n",
              "<style scoped>\n",
              "    .dataframe tbody tr th:only-of-type {\n",
              "        vertical-align: middle;\n",
              "    }\n",
              "\n",
              "    .dataframe tbody tr th {\n",
              "        vertical-align: top;\n",
              "    }\n",
              "\n",
              "    .dataframe thead th {\n",
              "        text-align: right;\n",
              "    }\n",
              "</style>\n",
              "<table border=\"1\" class=\"dataframe\">\n",
              "  <thead>\n",
              "    <tr style=\"text-align: right;\">\n",
              "      <th></th>\n",
              "      <th>adblockerStatus</th>\n",
              "      <th>hour</th>\n",
              "      <th>isNewVisit</th>\n",
              "      <th>parsedReferrerId</th>\n",
              "    </tr>\n",
              "  </thead>\n",
              "  <tbody>\n",
              "    <tr>\n",
              "      <th>count</th>\n",
              "      <td>1.088111e+06</td>\n",
              "      <td>1088111.0</td>\n",
              "      <td>1.088106e+06</td>\n",
              "      <td>1.088111e+06</td>\n",
              "    </tr>\n",
              "    <tr>\n",
              "      <th>mean</th>\n",
              "      <td>-8.489943e-03</td>\n",
              "      <td>0.0</td>\n",
              "      <td>9.885452e-01</td>\n",
              "      <td>8.203375e+00</td>\n",
              "    </tr>\n",
              "    <tr>\n",
              "      <th>std</th>\n",
              "      <td>3.980446e-01</td>\n",
              "      <td>0.0</td>\n",
              "      <td>1.064122e-01</td>\n",
              "      <td>5.530869e+00</td>\n",
              "    </tr>\n",
              "    <tr>\n",
              "      <th>min</th>\n",
              "      <td>-2.000000e+00</td>\n",
              "      <td>0.0</td>\n",
              "      <td>0.000000e+00</td>\n",
              "      <td>0.000000e+00</td>\n",
              "    </tr>\n",
              "    <tr>\n",
              "      <th>25%</th>\n",
              "      <td>0.000000e+00</td>\n",
              "      <td>0.0</td>\n",
              "      <td>1.000000e+00</td>\n",
              "      <td>2.000000e+00</td>\n",
              "    </tr>\n",
              "    <tr>\n",
              "      <th>50%</th>\n",
              "      <td>0.000000e+00</td>\n",
              "      <td>0.0</td>\n",
              "      <td>1.000000e+00</td>\n",
              "      <td>1.200000e+01</td>\n",
              "    </tr>\n",
              "    <tr>\n",
              "      <th>75%</th>\n",
              "      <td>0.000000e+00</td>\n",
              "      <td>0.0</td>\n",
              "      <td>1.000000e+00</td>\n",
              "      <td>1.300000e+01</td>\n",
              "    </tr>\n",
              "    <tr>\n",
              "      <th>max</th>\n",
              "      <td>1.000000e+00</td>\n",
              "      <td>0.0</td>\n",
              "      <td>1.000000e+00</td>\n",
              "      <td>1.300000e+01</td>\n",
              "    </tr>\n",
              "  </tbody>\n",
              "</table>\n",
              "</div>"
            ],
            "text/plain": [
              "       adblockerStatus       hour    isNewVisit  parsedReferrerId\n",
              "count     1.088111e+06  1088111.0  1.088106e+06      1.088111e+06\n",
              "mean     -8.489943e-03        0.0  9.885452e-01      8.203375e+00\n",
              "std       3.980446e-01        0.0  1.064122e-01      5.530869e+00\n",
              "min      -2.000000e+00        0.0  0.000000e+00      0.000000e+00\n",
              "25%       0.000000e+00        0.0  1.000000e+00      2.000000e+00\n",
              "50%       0.000000e+00        0.0  1.000000e+00      1.200000e+01\n",
              "75%       0.000000e+00        0.0  1.000000e+00      1.300000e+01\n",
              "max       1.000000e+00        0.0  1.000000e+00      1.300000e+01"
            ]
          },
          "metadata": {
            "tags": []
          },
          "execution_count": 18
        }
      ]
    },
    {
      "cell_type": "code",
      "metadata": {
        "id": "D55rVAHrw7TK",
        "colab_type": "code",
        "colab": {
          "base_uri": "https://localhost:8080/",
          "height": 85
        },
        "outputId": "9cf9e155-def8-4d11-d426-d435f41e0f82"
      },
      "source": [
        "df.columns"
      ],
      "execution_count": 19,
      "outputs": [
        {
          "output_type": "execute_result",
          "data": {
            "text/plain": [
              "Index(['adblockerStatus', 'browser', 'browserId', 'city', 'content',\n",
              "       'contentAuthor', 'contentSection', 'hour', 'isFirstVisit', 'isNewVisit',\n",
              "       'parsedReferrerId', 'region', 'unixTimestamp'],\n",
              "      dtype='object')"
            ]
          },
          "metadata": {
            "tags": []
          },
          "execution_count": 19
        }
      ]
    },
    {
      "cell_type": "code",
      "metadata": {
        "id": "o5sciFZXxDNp",
        "colab_type": "code",
        "colab": {}
      },
      "source": [
        "visitors=visits['browserId']"
      ],
      "execution_count": 0,
      "outputs": []
    },
    {
      "cell_type": "code",
      "metadata": {
        "id": "5ImsUUmsxM5h",
        "colab_type": "code",
        "outputId": "142fe8ec-42e8-48fe-dac9-9376a7a6c48f",
        "colab": {
          "base_uri": "https://localhost:8080/",
          "height": 1000
        }
      },
      "source": [
        "visitors #the list of visitors on the next day, First-time visitors are excluded"
      ],
      "execution_count": 21,
      "outputs": [
        {
          "output_type": "execute_result",
          "data": {
            "text/plain": [
              "0          s8Chgmh2CKPQ2vPi4DHIxQ==\n",
              "1          1iJqSIJH2Fu8gHRjI86u0g==\n",
              "2          HN58tOi94UO07TzHFhwrvg==\n",
              "3          qzujOQagBTP/PO58Bc9rww==\n",
              "4          TBqIQQIkAQDbVUvrcXob3w==\n",
              "5          pww+XQPTxxh3IzUDzV3dPg==\n",
              "6          uGe6sUJnjNI8Ho3ojwbPyg==\n",
              "7          dpRAXTZlRKl2FWkTlxmuFg==\n",
              "8          bMJ6o4OTkWCLVR1WYT+JFw==\n",
              "9          mQZ+DlGvofG6ggkG3/lj+A==\n",
              "10         spvtE/7r6bD/thFS6fxEjg==\n",
              "11         CH6NU2XFDRjYMnT7qcel2A==\n",
              "12         J5XPyLxfaQKj2OR0igVmSA==\n",
              "13         KXe6D+ez9Q9gcq9Tp+cJhQ==\n",
              "14         6VuZdziQ31Rdvm3sezBygg==\n",
              "15         L//U0x5Ng2KzX5c+TDdKtg==\n",
              "16         /TaT49bGluKr7UCE3fCV6Q==\n",
              "17         Ce1WJdff08xjoZiPSHUzHg==\n",
              "18         TaFbO/wXdTq+xPXZ1kHOIg==\n",
              "19         7b1+c9VnUu0XSTBlV11RAQ==\n",
              "20         hK1klzf5WYmmCk37RGUj3w==\n",
              "21         yRZ/VbjTltlOsbdbJf157w==\n",
              "22         WsjIJkStMklfXlAjJEacKQ==\n",
              "23         TzzGCUe4qE/UnBj6YZUmcA==\n",
              "24         QLR5Bll6mmoKp0dRYtkPtg==\n",
              "25         v/a9EXwIBTQugPj/kPmU0Q==\n",
              "26         vNROAERoERg3VgJD9juzYw==\n",
              "27         Bssar/uHLamcNx4PrW7gWw==\n",
              "28         lkaRHe3sy3SjgdDvKw5BfA==\n",
              "29         T4yJVWmj7n9+o4eF9iWlSg==\n",
              "                     ...           \n",
              "3192943    qBQn8549eX+tYaZN0U9e4A==\n",
              "3192944    xIq8QstKQ+ZwKEgTbUHo3g==\n",
              "3192945    anPldh8e1KaNCmQbNODwTg==\n",
              "3192946    thQYOeZmLTlGx+ieBboAHA==\n",
              "3192947    oQnGN7GrVQJ4JCXdFSgRjg==\n",
              "3192948    AqM1b6brmcPPazdEeUZAUQ==\n",
              "3192949    NXelgDsDyL64N+8E3vkhJg==\n",
              "3192950    57ytV8QT+gHQN+S2/3NinA==\n",
              "3192951    Og1x3UcprSaaBfcT6l//Yg==\n",
              "3192952    VspFDl68g/I1Eil+Wne7NQ==\n",
              "3192953    DVJ9bGrrFDpEF+y1ct3n/A==\n",
              "3192954    j3e8jixw03lGFihA2yZmeA==\n",
              "3192955    x60PZ6HQz5MFWbc/wWIDIQ==\n",
              "3192956    ubPD+qjfpYhE7EHbWIkHCA==\n",
              "3192957    kzrLamKSZ7yIfdmkYZJdTg==\n",
              "3192958    tI33fW/EOD1e9FhBIwfNrQ==\n",
              "3192959    A3cAjWoFjee9Jk2df+IfRw==\n",
              "3192960    SXDqvKlMloPrWWOCjKbVnQ==\n",
              "3192961    nBWFF1LzCnlpp8UDpWx3WQ==\n",
              "3192962    kgs1uI9Fk1zRDN91d7YIYg==\n",
              "3192963    jhbnRGzoERwjCNa2PuyHRQ==\n",
              "3192964    xC+ICqEJ9eTh1hUPgboY1g==\n",
              "3192965    tSyRLy79+B/W8AERzNLnpQ==\n",
              "3192966    5Vh02KJL7IfCDkIjHnfdGQ==\n",
              "3192967    z6Bnp0qxVWkvGbblzxuJ4w==\n",
              "3192968    ONl66FkWZ1cT9QVryKInZw==\n",
              "3192969    eU1IphMf5fmezuAb+O383w==\n",
              "3192970    tELx50+QOwn5OUx/11swOg==\n",
              "3192971    5cFbeKUqx5UemE8R3QGxuQ==\n",
              "3192972    95crOggB9E28VSElg6UW2g==\n",
              "Name: browserId, Length: 3192973, dtype: object"
            ]
          },
          "metadata": {
            "tags": []
          },
          "execution_count": 21
        }
      ]
    },
    {
      "cell_type": "code",
      "metadata": {
        "id": "XyRt_FqSxXjp",
        "colab_type": "code",
        "colab": {}
      },
      "source": [
        "retention = df['browserId'].isin(visitors) #determine visitors who returns next day with 'True' value\n",
        "df['Ret']=retention"
      ],
      "execution_count": 0,
      "outputs": []
    },
    {
      "cell_type": "code",
      "metadata": {
        "id": "WiQQrdM5yLOS",
        "colab_type": "code",
        "outputId": "5bc9a19a-6eea-4caf-ac00-1ae25f409344",
        "colab": {
          "base_uri": "https://localhost:8080/",
          "height": 1000
        }
      },
      "source": [
        "df"
      ],
      "execution_count": 23,
      "outputs": [
        {
          "output_type": "execute_result",
          "data": {
            "text/html": [
              "<div>\n",
              "<style scoped>\n",
              "    .dataframe tbody tr th:only-of-type {\n",
              "        vertical-align: middle;\n",
              "    }\n",
              "\n",
              "    .dataframe tbody tr th {\n",
              "        vertical-align: top;\n",
              "    }\n",
              "\n",
              "    .dataframe thead th {\n",
              "        text-align: right;\n",
              "    }\n",
              "</style>\n",
              "<table border=\"1\" class=\"dataframe\">\n",
              "  <thead>\n",
              "    <tr style=\"text-align: right;\">\n",
              "      <th></th>\n",
              "      <th>adblockerStatus</th>\n",
              "      <th>browser</th>\n",
              "      <th>browserId</th>\n",
              "      <th>city</th>\n",
              "      <th>content</th>\n",
              "      <th>contentAuthor</th>\n",
              "      <th>contentSection</th>\n",
              "      <th>hour</th>\n",
              "      <th>isFirstVisit</th>\n",
              "      <th>isNewVisit</th>\n",
              "      <th>parsedReferrerId</th>\n",
              "      <th>region</th>\n",
              "      <th>unixTimestamp</th>\n",
              "      <th>Ret</th>\n",
              "    </tr>\n",
              "  </thead>\n",
              "  <tbody>\n",
              "    <tr>\n",
              "      <th>0</th>\n",
              "      <td>0</td>\n",
              "      <td>safari</td>\n",
              "      <td>YZ49jp/DA0M6yYbrPrmd+w==</td>\n",
              "      <td>NaN</td>\n",
              "      <td>{'id': '', 'keywords': '5y bond,u.s. 2 year tr...</td>\n",
              "      <td>Pt8bcy625lIuWVrQ1wDeuA==</td>\n",
              "      <td></td>\n",
              "      <td>0</td>\n",
              "      <td>True</td>\n",
              "      <td>1.0</td>\n",
              "      <td>11</td>\n",
              "      <td>NaN</td>\n",
              "      <td>2018-12-04 00:00:00.03 UTC</td>\n",
              "      <td>False</td>\n",
              "    </tr>\n",
              "    <tr>\n",
              "      <th>1</th>\n",
              "      <td>0</td>\n",
              "      <td>safari</td>\n",
              "      <td>KXCew/knnnZ3/ELhGLfAnw==</td>\n",
              "      <td>Boston</td>\n",
              "      <td>{'id': '', 'keywords': 'technology, alphabet c...</td>\n",
              "      <td>Kjz3YeHWfKR1kJ/tjtel3w==</td>\n",
              "      <td>Technology</td>\n",
              "      <td>0</td>\n",
              "      <td>True</td>\n",
              "      <td>1.0</td>\n",
              "      <td>13</td>\n",
              "      <td>Massachusetts</td>\n",
              "      <td>2018-12-04 00:00:00.071 UTC</td>\n",
              "      <td>False</td>\n",
              "    </tr>\n",
              "    <tr>\n",
              "      <th>2</th>\n",
              "      <td>0</td>\n",
              "      <td>chrome</td>\n",
              "      <td>X6n0RhlP8SPyXHk/+xrEfw==</td>\n",
              "      <td>Bronx</td>\n",
              "      <td>{'id': '', 'keywords': 'politics, trade, white...</td>\n",
              "      <td>2k3MrScgYinhO2IcDCvCqg==</td>\n",
              "      <td>Politics</td>\n",
              "      <td>0</td>\n",
              "      <td>True</td>\n",
              "      <td>1.0</td>\n",
              "      <td>12</td>\n",
              "      <td>New York</td>\n",
              "      <td>2018-12-04 00:00:00.095 UTC</td>\n",
              "      <td>False</td>\n",
              "    </tr>\n",
              "    <tr>\n",
              "      <th>3</th>\n",
              "      <td>0</td>\n",
              "      <td>chrome</td>\n",
              "      <td>rG+IpRGPdhSe+04rAgwFkA==</td>\n",
              "      <td>Dundalk</td>\n",
              "      <td>{'id': '', 'keywords': 'politics, robert muell...</td>\n",
              "      <td>yZnt3PG6YAGJR+/6Q3IySg==</td>\n",
              "      <td>Politics</td>\n",
              "      <td>0</td>\n",
              "      <td>True</td>\n",
              "      <td>1.0</td>\n",
              "      <td>12</td>\n",
              "      <td>Maryland</td>\n",
              "      <td>2018-12-04 00:00:00.156 UTC</td>\n",
              "      <td>False</td>\n",
              "    </tr>\n",
              "    <tr>\n",
              "      <th>4</th>\n",
              "      <td>1</td>\n",
              "      <td>chrome</td>\n",
              "      <td>MUpACX53Z4So3CoNOX5zWg==</td>\n",
              "      <td>Racine</td>\n",
              "      <td>{'id': '', 'keywords': 'cramer remix, mad mone...</td>\n",
              "      <td>XIJUwwPcS3C77OuC5aVnOg==</td>\n",
              "      <td>Mad Money</td>\n",
              "      <td>0</td>\n",
              "      <td>True</td>\n",
              "      <td>1.0</td>\n",
              "      <td>13</td>\n",
              "      <td>Wisconsin</td>\n",
              "      <td>2018-12-04 00:00:00.219 UTC</td>\n",
              "      <td>False</td>\n",
              "    </tr>\n",
              "    <tr>\n",
              "      <th>5</th>\n",
              "      <td>0</td>\n",
              "      <td>chrome</td>\n",
              "      <td>xG+N2JLRDLb1WnYyI8+JaA==</td>\n",
              "      <td>Kuala Lumpur</td>\n",
              "      <td>{'id': '', 'keywords': 'oil, asia economy, bre...</td>\n",
              "      <td>ibcBdNZrHCzEgdQ53nR0jw==</td>\n",
              "      <td>Oil</td>\n",
              "      <td>0</td>\n",
              "      <td>True</td>\n",
              "      <td>1.0</td>\n",
              "      <td>13</td>\n",
              "      <td>Kuala Lumpur</td>\n",
              "      <td>2018-12-04 00:00:00.292 UTC</td>\n",
              "      <td>False</td>\n",
              "    </tr>\n",
              "    <tr>\n",
              "      <th>6</th>\n",
              "      <td>0</td>\n",
              "      <td>firefox</td>\n",
              "      <td>ICTY9aAGD2UoVx8RoYiHJg==</td>\n",
              "      <td>Reading</td>\n",
              "      <td>{'id': '', 'keywords': '', 'title': 'JWCx6fc1d...</td>\n",
              "      <td>1B2M2Y8AsgTpgAmY7PhCfg==</td>\n",
              "      <td>Squawk Box Europe</td>\n",
              "      <td>0</td>\n",
              "      <td>True</td>\n",
              "      <td>1.0</td>\n",
              "      <td>12</td>\n",
              "      <td>Reading</td>\n",
              "      <td>2018-12-04 00:00:00.413 UTC</td>\n",
              "      <td>False</td>\n",
              "    </tr>\n",
              "    <tr>\n",
              "      <th>7</th>\n",
              "      <td>0</td>\n",
              "      <td>safari</td>\n",
              "      <td>3kIXf284YA2sHGHBnU0WWA==</td>\n",
              "      <td>Brooklyn</td>\n",
              "      <td>{'id': '', 'keywords': 'airlines, business, am...</td>\n",
              "      <td>UmgjY2D8N6gNBjxRy2+4BA==</td>\n",
              "      <td>Airlines</td>\n",
              "      <td>0</td>\n",
              "      <td>True</td>\n",
              "      <td>1.0</td>\n",
              "      <td>11</td>\n",
              "      <td>New York</td>\n",
              "      <td>2018-12-04 00:00:00.502 UTC</td>\n",
              "      <td>False</td>\n",
              "    </tr>\n",
              "    <tr>\n",
              "      <th>8</th>\n",
              "      <td>0</td>\n",
              "      <td>chrome</td>\n",
              "      <td>mESb3diwKDZrwuHtLwCTDg==</td>\n",
              "      <td>Granby</td>\n",
              "      <td>{'id': '', 'keywords': 'airlines, federal avia...</td>\n",
              "      <td>UmgjY2D8N6gNBjxRy2+4BA==</td>\n",
              "      <td>Airlines</td>\n",
              "      <td>0</td>\n",
              "      <td>True</td>\n",
              "      <td>1.0</td>\n",
              "      <td>0</td>\n",
              "      <td>Colorado</td>\n",
              "      <td>2018-12-04 00:00:00.561 UTC</td>\n",
              "      <td>False</td>\n",
              "    </tr>\n",
              "    <tr>\n",
              "      <th>9</th>\n",
              "      <td>0</td>\n",
              "      <td>misc</td>\n",
              "      <td>wsTGXNJjOb6FDUZulLQL7Q==</td>\n",
              "      <td>Everett</td>\n",
              "      <td>{'id': '', 'keywords': 'politics, robert muell...</td>\n",
              "      <td>yZnt3PG6YAGJR+/6Q3IySg==</td>\n",
              "      <td>Politics</td>\n",
              "      <td>0</td>\n",
              "      <td>True</td>\n",
              "      <td>1.0</td>\n",
              "      <td>2</td>\n",
              "      <td>Washington</td>\n",
              "      <td>2018-12-04 00:00:00.587 UTC</td>\n",
              "      <td>False</td>\n",
              "    </tr>\n",
              "    <tr>\n",
              "      <th>10</th>\n",
              "      <td>0</td>\n",
              "      <td>safari</td>\n",
              "      <td>pEyCPCiFXkUrgmkIaHyR7A==</td>\n",
              "      <td>New York</td>\n",
              "      <td>{'id': '', 'keywords': 'markets, xi jinping, d...</td>\n",
              "      <td>tYwRZ4lRQEPLxn4sc8MReg==</td>\n",
              "      <td>Markets</td>\n",
              "      <td>0</td>\n",
              "      <td>True</td>\n",
              "      <td>1.0</td>\n",
              "      <td>11</td>\n",
              "      <td>New York</td>\n",
              "      <td>2018-12-04 00:00:00.64 UTC</td>\n",
              "      <td>False</td>\n",
              "    </tr>\n",
              "    <tr>\n",
              "      <th>11</th>\n",
              "      <td>0</td>\n",
              "      <td>chrome</td>\n",
              "      <td>elwXkGVNfrMX1zI7AspU/Q==</td>\n",
              "      <td>Marietta</td>\n",
              "      <td>{'id': '', 'keywords': 'politics, nuclear weap...</td>\n",
              "      <td>jkqOsYfkbA06JWZ3SkVBvw==</td>\n",
              "      <td>Politics</td>\n",
              "      <td>0</td>\n",
              "      <td>True</td>\n",
              "      <td>1.0</td>\n",
              "      <td>0</td>\n",
              "      <td>Georgia</td>\n",
              "      <td>2018-12-04 00:00:00.668 UTC</td>\n",
              "      <td>False</td>\n",
              "    </tr>\n",
              "    <tr>\n",
              "      <th>12</th>\n",
              "      <td>1</td>\n",
              "      <td>chrome</td>\n",
              "      <td>5A9w+F2pHmCw4V2D19CLkg==</td>\n",
              "      <td>Los Angeles</td>\n",
              "      <td>{'id': '', 'keywords': 'technology, investment...</td>\n",
              "      <td>bfUua1cuFVgoLyptvllgDw==</td>\n",
              "      <td>Technology</td>\n",
              "      <td>0</td>\n",
              "      <td>True</td>\n",
              "      <td>1.0</td>\n",
              "      <td>0</td>\n",
              "      <td>California</td>\n",
              "      <td>2018-12-04 00:00:00.7 UTC</td>\n",
              "      <td>False</td>\n",
              "    </tr>\n",
              "    <tr>\n",
              "      <th>13</th>\n",
              "      <td>0</td>\n",
              "      <td>chrome</td>\n",
              "      <td>NK0Tr8ZdfgepyF14AdttrA==</td>\n",
              "      <td>Waxahachie</td>\n",
              "      <td>{'id': '', 'keywords': 'politics, robert muell...</td>\n",
              "      <td>yZnt3PG6YAGJR+/6Q3IySg==</td>\n",
              "      <td>Politics</td>\n",
              "      <td>0</td>\n",
              "      <td>True</td>\n",
              "      <td>1.0</td>\n",
              "      <td>7</td>\n",
              "      <td>Texas</td>\n",
              "      <td>2018-12-04 00:00:00.935 UTC</td>\n",
              "      <td>False</td>\n",
              "    </tr>\n",
              "    <tr>\n",
              "      <th>14</th>\n",
              "      <td>0</td>\n",
              "      <td>safari</td>\n",
              "      <td>JegRHiOH13K3kIFUNO3lFQ==</td>\n",
              "      <td>Wood Green</td>\n",
              "      <td>{'id': '', 'keywords': 'markets, hp inc, micro...</td>\n",
              "      <td>ra0q1U8HICA8YXtE4AEXCw==</td>\n",
              "      <td>Markets</td>\n",
              "      <td>0</td>\n",
              "      <td>True</td>\n",
              "      <td>1.0</td>\n",
              "      <td>0</td>\n",
              "      <td>Haringey</td>\n",
              "      <td>2018-12-04 00:00:00.961 UTC</td>\n",
              "      <td>False</td>\n",
              "    </tr>\n",
              "    <tr>\n",
              "      <th>15</th>\n",
              "      <td>0</td>\n",
              "      <td>chrome</td>\n",
              "      <td>PgeGvfDpciwEw0ZHKPVfFA==</td>\n",
              "      <td>Buenos Aires</td>\n",
              "      <td>{'id': '', 'keywords': 'some world, some inter...</td>\n",
              "      <td>1B2M2Y8AsgTpgAmY7PhCfg==</td>\n",
              "      <td>International Homepage</td>\n",
              "      <td>0</td>\n",
              "      <td>True</td>\n",
              "      <td>1.0</td>\n",
              "      <td>12</td>\n",
              "      <td>Distrito Federal</td>\n",
              "      <td>2018-12-04 00:00:00.97 UTC</td>\n",
              "      <td>False</td>\n",
              "    </tr>\n",
              "    <tr>\n",
              "      <th>16</th>\n",
              "      <td>0</td>\n",
              "      <td>chrome</td>\n",
              "      <td>XnJkbIqGeWlNzplRtYRLKg==</td>\n",
              "      <td>Athens</td>\n",
              "      <td>{'id': '', 'keywords': 'politics, sarah huckab...</td>\n",
              "      <td>+iF68Bgte0Q+5eH0T1A68g==</td>\n",
              "      <td>Politics</td>\n",
              "      <td>0</td>\n",
              "      <td>True</td>\n",
              "      <td>1.0</td>\n",
              "      <td>2</td>\n",
              "      <td>Tennessee</td>\n",
              "      <td>2018-12-04 00:00:01.005 UTC</td>\n",
              "      <td>False</td>\n",
              "    </tr>\n",
              "    <tr>\n",
              "      <th>17</th>\n",
              "      <td>0</td>\n",
              "      <td>bot</td>\n",
              "      <td>INpCuelrygoeJbISv4ChLA==</td>\n",
              "      <td>Seoul</td>\n",
              "      <td>{'id': '', 'keywords': 'politics, xi jinping, ...</td>\n",
              "      <td>+iF68Bgte0Q+5eH0T1A68g==</td>\n",
              "      <td>Politics</td>\n",
              "      <td>0</td>\n",
              "      <td>True</td>\n",
              "      <td>1.0</td>\n",
              "      <td>0</td>\n",
              "      <td>Seoul-t'ukpyolsi</td>\n",
              "      <td>2018-12-04 00:00:01.088 UTC</td>\n",
              "      <td>False</td>\n",
              "    </tr>\n",
              "    <tr>\n",
              "      <th>18</th>\n",
              "      <td>0</td>\n",
              "      <td>chrome</td>\n",
              "      <td>ie2OKnnphoy3yA3mt+4ljA==</td>\n",
              "      <td>Regensdorf</td>\n",
              "      <td>{'id': '', 'keywords': 'business news', 'title...</td>\n",
              "      <td>1B2M2Y8AsgTpgAmY7PhCfg==</td>\n",
              "      <td>U.S. Markets</td>\n",
              "      <td>0</td>\n",
              "      <td>True</td>\n",
              "      <td>1.0</td>\n",
              "      <td>13</td>\n",
              "      <td>Zurich</td>\n",
              "      <td>2018-12-04 00:00:01.123 UTC</td>\n",
              "      <td>False</td>\n",
              "    </tr>\n",
              "    <tr>\n",
              "      <th>19</th>\n",
              "      <td>0</td>\n",
              "      <td>ie</td>\n",
              "      <td>imfIkTCV3tRfWBtT86Qr1Q==</td>\n",
              "      <td>Willingboro</td>\n",
              "      <td>{'id': '', 'keywords': 'some homepage, stock m...</td>\n",
              "      <td>1B2M2Y8AsgTpgAmY7PhCfg==</td>\n",
              "      <td>US Homepage</td>\n",
              "      <td>0</td>\n",
              "      <td>True</td>\n",
              "      <td>1.0</td>\n",
              "      <td>5</td>\n",
              "      <td>New Jersey</td>\n",
              "      <td>2018-12-04 00:00:01.123 UTC</td>\n",
              "      <td>False</td>\n",
              "    </tr>\n",
              "    <tr>\n",
              "      <th>20</th>\n",
              "      <td>0</td>\n",
              "      <td>safari</td>\n",
              "      <td>9uGfPd59LSkcd1NMA4mzcw==</td>\n",
              "      <td>Milford</td>\n",
              "      <td>{'id': '', 'keywords': 'food and beverage, ret...</td>\n",
              "      <td>LLQfhkdraiIeKOoXfCtZLg==</td>\n",
              "      <td>Food and Beverage</td>\n",
              "      <td>0</td>\n",
              "      <td>True</td>\n",
              "      <td>1.0</td>\n",
              "      <td>6</td>\n",
              "      <td>Ohio</td>\n",
              "      <td>2018-12-04 00:00:01.237 UTC</td>\n",
              "      <td>False</td>\n",
              "    </tr>\n",
              "    <tr>\n",
              "      <th>21</th>\n",
              "      <td>0</td>\n",
              "      <td>chrome</td>\n",
              "      <td>tb/5sNH+39TsEfV/GqliCw==</td>\n",
              "      <td>Columbia</td>\n",
              "      <td>{'id': '', 'keywords': 'advisor insight, speci...</td>\n",
              "      <td>lDoawOWtH4CCrBHE1uMwEQ==</td>\n",
              "      <td>Advisor Insight</td>\n",
              "      <td>0</td>\n",
              "      <td>True</td>\n",
              "      <td>1.0</td>\n",
              "      <td>11</td>\n",
              "      <td>South Carolina</td>\n",
              "      <td>2018-12-04 00:00:01.249 UTC</td>\n",
              "      <td>False</td>\n",
              "    </tr>\n",
              "    <tr>\n",
              "      <th>22</th>\n",
              "      <td>0</td>\n",
              "      <td>firefox</td>\n",
              "      <td>u5sUnCK17FVXLXwwAdOKeA==</td>\n",
              "      <td>Boardman</td>\n",
              "      <td>{'id': '', 'keywords': '', 'title': 'VFY4WZdjm...</td>\n",
              "      <td>XIJUwwPcS3C77OuC5aVnOg==</td>\n",
              "      <td>Mad Money</td>\n",
              "      <td>0</td>\n",
              "      <td>True</td>\n",
              "      <td>1.0</td>\n",
              "      <td>13</td>\n",
              "      <td>Oregon</td>\n",
              "      <td>2018-12-04 00:00:01.437 UTC</td>\n",
              "      <td>False</td>\n",
              "    </tr>\n",
              "    <tr>\n",
              "      <th>23</th>\n",
              "      <td>0</td>\n",
              "      <td>safari</td>\n",
              "      <td>iONhN8//tgeQSSDD7aGjow==</td>\n",
              "      <td>Minneapolis</td>\n",
              "      <td>{'id': '', 'keywords': 'politics, donald trump...</td>\n",
              "      <td>qhFnfSN7LCtDX9feysDXrQ==</td>\n",
              "      <td>Politics</td>\n",
              "      <td>0</td>\n",
              "      <td>True</td>\n",
              "      <td>1.0</td>\n",
              "      <td>13</td>\n",
              "      <td>Minnesota</td>\n",
              "      <td>2018-12-04 00:00:01.472 UTC</td>\n",
              "      <td>False</td>\n",
              "    </tr>\n",
              "    <tr>\n",
              "      <th>24</th>\n",
              "      <td>0</td>\n",
              "      <td>chrome</td>\n",
              "      <td>TYcRg3uYLfosdECswR6ZVA==</td>\n",
              "      <td>NaN</td>\n",
              "      <td>{'id': '', 'keywords': 'mad money, jim cramer,...</td>\n",
              "      <td>16XTT4UJTzbCa5AnaKmtgQ==</td>\n",
              "      <td>Mad Money</td>\n",
              "      <td>0</td>\n",
              "      <td>True</td>\n",
              "      <td>1.0</td>\n",
              "      <td>13</td>\n",
              "      <td>NaN</td>\n",
              "      <td>2018-12-04 00:00:01.487 UTC</td>\n",
              "      <td>False</td>\n",
              "    </tr>\n",
              "    <tr>\n",
              "      <th>25</th>\n",
              "      <td>0</td>\n",
              "      <td>safari</td>\n",
              "      <td>qLkE8Fc3Hynr7r875/GAlA==</td>\n",
              "      <td>Jupiter</td>\n",
              "      <td>{'id': '', 'keywords': 'some homepage, stock m...</td>\n",
              "      <td>1B2M2Y8AsgTpgAmY7PhCfg==</td>\n",
              "      <td>US Homepage</td>\n",
              "      <td>0</td>\n",
              "      <td>True</td>\n",
              "      <td>1.0</td>\n",
              "      <td>13</td>\n",
              "      <td>Florida</td>\n",
              "      <td>2018-12-04 00:00:01.577 UTC</td>\n",
              "      <td>False</td>\n",
              "    </tr>\n",
              "    <tr>\n",
              "      <th>26</th>\n",
              "      <td>0</td>\n",
              "      <td>bot</td>\n",
              "      <td>+EWwo6qBXooUknUtIHqwtw==</td>\n",
              "      <td>NaN</td>\n",
              "      <td>{'id': '', 'keywords': '', 'title': 'SO3Pp2uEJ...</td>\n",
              "      <td>qhFnfSN7LCtDX9feysDXrQ==</td>\n",
              "      <td>quotes</td>\n",
              "      <td>0</td>\n",
              "      <td>True</td>\n",
              "      <td>1.0</td>\n",
              "      <td>13</td>\n",
              "      <td>NaN</td>\n",
              "      <td>2018-12-04 00:00:01.593 UTC</td>\n",
              "      <td>False</td>\n",
              "    </tr>\n",
              "    <tr>\n",
              "      <th>27</th>\n",
              "      <td>0</td>\n",
              "      <td>safari</td>\n",
              "      <td>6q3yzgFV+yd4FGumZQCBcQ==</td>\n",
              "      <td>Chicago</td>\n",
              "      <td>{'id': '', 'keywords': 'personal finance, pers...</td>\n",
              "      <td>wdOTaqRW69a8iDj8BShhkg==</td>\n",
              "      <td>Personal Finance</td>\n",
              "      <td>0</td>\n",
              "      <td>True</td>\n",
              "      <td>1.0</td>\n",
              "      <td>0</td>\n",
              "      <td>Illinois</td>\n",
              "      <td>2018-12-04 00:00:01.61 UTC</td>\n",
              "      <td>False</td>\n",
              "    </tr>\n",
              "    <tr>\n",
              "      <th>28</th>\n",
              "      <td>0</td>\n",
              "      <td>chrome</td>\n",
              "      <td>WKICdL2/MFto3CkiYCM4uA==</td>\n",
              "      <td>Fullerton</td>\n",
              "      <td>{'id': '', 'keywords': 'politics, robert muell...</td>\n",
              "      <td>yZnt3PG6YAGJR+/6Q3IySg==</td>\n",
              "      <td>Politics</td>\n",
              "      <td>0</td>\n",
              "      <td>True</td>\n",
              "      <td>1.0</td>\n",
              "      <td>11</td>\n",
              "      <td>California</td>\n",
              "      <td>2018-12-04 00:00:01.657 UTC</td>\n",
              "      <td>False</td>\n",
              "    </tr>\n",
              "    <tr>\n",
              "      <th>29</th>\n",
              "      <td>0</td>\n",
              "      <td>safari</td>\n",
              "      <td>nFV4hc0fY7LEws+ygHSV+g==</td>\n",
              "      <td>Palm Coast</td>\n",
              "      <td>{'id': '', 'keywords': 'tech guide, apple inc,...</td>\n",
              "      <td>42eBZwmFP/ijs4kUBV0UqQ==</td>\n",
              "      <td>Tech Guide</td>\n",
              "      <td>0</td>\n",
              "      <td>True</td>\n",
              "      <td>1.0</td>\n",
              "      <td>0</td>\n",
              "      <td>Florida</td>\n",
              "      <td>2018-12-04 00:00:01.851 UTC</td>\n",
              "      <td>False</td>\n",
              "    </tr>\n",
              "    <tr>\n",
              "      <th>...</th>\n",
              "      <td>...</td>\n",
              "      <td>...</td>\n",
              "      <td>...</td>\n",
              "      <td>...</td>\n",
              "      <td>...</td>\n",
              "      <td>...</td>\n",
              "      <td>...</td>\n",
              "      <td>...</td>\n",
              "      <td>...</td>\n",
              "      <td>...</td>\n",
              "      <td>...</td>\n",
              "      <td>...</td>\n",
              "      <td>...</td>\n",
              "      <td>...</td>\n",
              "    </tr>\n",
              "    <tr>\n",
              "      <th>1088081</th>\n",
              "      <td>0</td>\n",
              "      <td>chrome</td>\n",
              "      <td>SKtBnEKv+wagvEDJtbtACw==</td>\n",
              "      <td>New York</td>\n",
              "      <td>{'id': '', 'keywords': 'make it - careers, mak...</td>\n",
              "      <td>zfTz4E5mezEOghY+p0LEJw==</td>\n",
              "      <td>Make It - Careers</td>\n",
              "      <td>0</td>\n",
              "      <td>True</td>\n",
              "      <td>1.0</td>\n",
              "      <td>0</td>\n",
              "      <td>New York</td>\n",
              "      <td>2018-12-04 23:59:58.14 UTC</td>\n",
              "      <td>False</td>\n",
              "    </tr>\n",
              "    <tr>\n",
              "      <th>1088082</th>\n",
              "      <td>-1</td>\n",
              "      <td>safari</td>\n",
              "      <td>/9I9AINm1NyZKzVf/rewLg==</td>\n",
              "      <td>Boca Raton</td>\n",
              "      <td>{'id': '', 'keywords': '', 'title': 'oULBR6j5L...</td>\n",
              "      <td>1B2M2Y8AsgTpgAmY7PhCfg==</td>\n",
              "      <td></td>\n",
              "      <td>0</td>\n",
              "      <td>True</td>\n",
              "      <td>1.0</td>\n",
              "      <td>0</td>\n",
              "      <td>Florida</td>\n",
              "      <td>2018-12-04 23:59:58.168 UTC</td>\n",
              "      <td>False</td>\n",
              "    </tr>\n",
              "    <tr>\n",
              "      <th>1088083</th>\n",
              "      <td>0</td>\n",
              "      <td>firefox</td>\n",
              "      <td>M145oirbM7lVYqUBVNGi/g==</td>\n",
              "      <td>Tempe</td>\n",
              "      <td>{'id': '', 'keywords': 'markets, jerome powell...</td>\n",
              "      <td>tYwRZ4lRQEPLxn4sc8MReg==</td>\n",
              "      <td>Markets</td>\n",
              "      <td>0</td>\n",
              "      <td>True</td>\n",
              "      <td>1.0</td>\n",
              "      <td>7</td>\n",
              "      <td>Arizona</td>\n",
              "      <td>2018-12-04 23:59:58.192 UTC</td>\n",
              "      <td>True</td>\n",
              "    </tr>\n",
              "    <tr>\n",
              "      <th>1088084</th>\n",
              "      <td>0</td>\n",
              "      <td>firefox</td>\n",
              "      <td>iIspSuOQGw3lsq1MiqowqA==</td>\n",
              "      <td>Jacksonville</td>\n",
              "      <td>{'id': '', 'keywords': 'markets, jerome powell...</td>\n",
              "      <td>tYwRZ4lRQEPLxn4sc8MReg==</td>\n",
              "      <td>Markets</td>\n",
              "      <td>0</td>\n",
              "      <td>True</td>\n",
              "      <td>1.0</td>\n",
              "      <td>7</td>\n",
              "      <td>North Carolina</td>\n",
              "      <td>2018-12-04 23:59:58.235 UTC</td>\n",
              "      <td>False</td>\n",
              "    </tr>\n",
              "    <tr>\n",
              "      <th>1088085</th>\n",
              "      <td>0</td>\n",
              "      <td>firefox</td>\n",
              "      <td>ljodMpghV2TAMLAzK3HHuQ==</td>\n",
              "      <td>Mahopac</td>\n",
              "      <td>{'id': '', 'keywords': 'some homepage, stock m...</td>\n",
              "      <td>1B2M2Y8AsgTpgAmY7PhCfg==</td>\n",
              "      <td>US Homepage</td>\n",
              "      <td>0</td>\n",
              "      <td>True</td>\n",
              "      <td>1.0</td>\n",
              "      <td>13</td>\n",
              "      <td>New York</td>\n",
              "      <td>2018-12-04 23:59:58.307 UTC</td>\n",
              "      <td>False</td>\n",
              "    </tr>\n",
              "    <tr>\n",
              "      <th>1088086</th>\n",
              "      <td>0</td>\n",
              "      <td>ie</td>\n",
              "      <td>G4Ceh5Bk6vMwsacKYl5P2g==</td>\n",
              "      <td>Middletown</td>\n",
              "      <td>{'id': '', 'keywords': 'trading nation, xi jin...</td>\n",
              "      <td>iA8dd8j9aLJxlCmWlJ3eXQ==</td>\n",
              "      <td>Trading Nation</td>\n",
              "      <td>0</td>\n",
              "      <td>True</td>\n",
              "      <td>1.0</td>\n",
              "      <td>13</td>\n",
              "      <td>Rhode Island</td>\n",
              "      <td>2018-12-04 23:59:58.484 UTC</td>\n",
              "      <td>False</td>\n",
              "    </tr>\n",
              "    <tr>\n",
              "      <th>1088087</th>\n",
              "      <td>0</td>\n",
              "      <td>chrome</td>\n",
              "      <td>fbgg9R+gWxCk1wqBLCfVdg==</td>\n",
              "      <td>Pawtucket</td>\n",
              "      <td>{'id': '', 'keywords': 'trading nation, xi jin...</td>\n",
              "      <td>iA8dd8j9aLJxlCmWlJ3eXQ==</td>\n",
              "      <td>Trading Nation</td>\n",
              "      <td>0</td>\n",
              "      <td>True</td>\n",
              "      <td>1.0</td>\n",
              "      <td>12</td>\n",
              "      <td>Rhode Island</td>\n",
              "      <td>2018-12-04 23:59:58.6 UTC</td>\n",
              "      <td>False</td>\n",
              "    </tr>\n",
              "    <tr>\n",
              "      <th>1088088</th>\n",
              "      <td>0</td>\n",
              "      <td>safari</td>\n",
              "      <td>N1BPj8DSYSKkEdJ47wCXNA==</td>\n",
              "      <td>Mc Henry</td>\n",
              "      <td>{'id': '', 'keywords': 'trading nation, xi jin...</td>\n",
              "      <td>iA8dd8j9aLJxlCmWlJ3eXQ==</td>\n",
              "      <td>Trading Nation</td>\n",
              "      <td>0</td>\n",
              "      <td>True</td>\n",
              "      <td>1.0</td>\n",
              "      <td>7</td>\n",
              "      <td>Maryland</td>\n",
              "      <td>2018-12-04 23:59:58.644 UTC</td>\n",
              "      <td>False</td>\n",
              "    </tr>\n",
              "    <tr>\n",
              "      <th>1088089</th>\n",
              "      <td>0</td>\n",
              "      <td>ie</td>\n",
              "      <td>s1ZgKDvJW3LEBcfqtUivnQ==</td>\n",
              "      <td>Bolingbrook</td>\n",
              "      <td>{'id': '', 'keywords': 'trading nation, xi jin...</td>\n",
              "      <td>iA8dd8j9aLJxlCmWlJ3eXQ==</td>\n",
              "      <td>Trading Nation</td>\n",
              "      <td>0</td>\n",
              "      <td>True</td>\n",
              "      <td>1.0</td>\n",
              "      <td>12</td>\n",
              "      <td>Illinois</td>\n",
              "      <td>2018-12-04 23:59:58.735 UTC</td>\n",
              "      <td>False</td>\n",
              "    </tr>\n",
              "    <tr>\n",
              "      <th>1088090</th>\n",
              "      <td>0</td>\n",
              "      <td>misc</td>\n",
              "      <td>QPPJ0pNJpuyQ44K09FO/Bw==</td>\n",
              "      <td>Brighton</td>\n",
              "      <td>{'id': '', 'keywords': 'europe politics, us do...</td>\n",
              "      <td>RAQgyv0WJMgHXF6Y0Oz0dQ==</td>\n",
              "      <td>Europe Politics</td>\n",
              "      <td>0</td>\n",
              "      <td>True</td>\n",
              "      <td>1.0</td>\n",
              "      <td>2</td>\n",
              "      <td>Brighton and Hove</td>\n",
              "      <td>2018-12-04 23:59:58.749 UTC</td>\n",
              "      <td>False</td>\n",
              "    </tr>\n",
              "    <tr>\n",
              "      <th>1088091</th>\n",
              "      <td>0</td>\n",
              "      <td>safari</td>\n",
              "      <td>IYxjfdqVsnS+OKwbJOlvow==</td>\n",
              "      <td>NaN</td>\n",
              "      <td>{'id': '', 'keywords': 'technology, investment...</td>\n",
              "      <td>90MeDqdQIJunwWtvNqtJ+Q==</td>\n",
              "      <td>Technology</td>\n",
              "      <td>0</td>\n",
              "      <td>True</td>\n",
              "      <td>1.0</td>\n",
              "      <td>11</td>\n",
              "      <td>NaN</td>\n",
              "      <td>2018-12-04 23:59:58.778 UTC</td>\n",
              "      <td>False</td>\n",
              "    </tr>\n",
              "    <tr>\n",
              "      <th>1088092</th>\n",
              "      <td>0</td>\n",
              "      <td>safari</td>\n",
              "      <td>z7ceS+yJZ5Sb9ZceVQJAeA==</td>\n",
              "      <td>NaN</td>\n",
              "      <td>{'id': '', 'keywords': 'some utilities page, m...</td>\n",
              "      <td>qhFnfSN7LCtDX9feysDXrQ==</td>\n",
              "      <td></td>\n",
              "      <td>0</td>\n",
              "      <td>True</td>\n",
              "      <td>1.0</td>\n",
              "      <td>13</td>\n",
              "      <td>NaN</td>\n",
              "      <td>2018-12-04 23:59:58.786 UTC</td>\n",
              "      <td>False</td>\n",
              "    </tr>\n",
              "    <tr>\n",
              "      <th>1088093</th>\n",
              "      <td>0</td>\n",
              "      <td>safari</td>\n",
              "      <td>7WXtxCsH2do57rvjm0RljA==</td>\n",
              "      <td>Singapore</td>\n",
              "      <td>{'id': '', 'keywords': 'finance, h &amp; m hennes ...</td>\n",
              "      <td>anfRWLhRUzergJSHichG1w==</td>\n",
              "      <td>Finance</td>\n",
              "      <td>0</td>\n",
              "      <td>True</td>\n",
              "      <td>1.0</td>\n",
              "      <td>13</td>\n",
              "      <td>NaN</td>\n",
              "      <td>2018-12-04 23:59:58.881 UTC</td>\n",
              "      <td>False</td>\n",
              "    </tr>\n",
              "    <tr>\n",
              "      <th>1088094</th>\n",
              "      <td>0</td>\n",
              "      <td>safari</td>\n",
              "      <td>DGl/cejoTWkMj7eG0sgZow==</td>\n",
              "      <td>Eindhoven</td>\n",
              "      <td>{'id': '', 'keywords': 'autos, business, tesla...</td>\n",
              "      <td>qhFnfSN7LCtDX9feysDXrQ==</td>\n",
              "      <td>Autos</td>\n",
              "      <td>0</td>\n",
              "      <td>True</td>\n",
              "      <td>1.0</td>\n",
              "      <td>0</td>\n",
              "      <td>Noord-Brabant</td>\n",
              "      <td>2018-12-04 23:59:58.927 UTC</td>\n",
              "      <td>False</td>\n",
              "    </tr>\n",
              "    <tr>\n",
              "      <th>1088095</th>\n",
              "      <td>0</td>\n",
              "      <td>safari</td>\n",
              "      <td>X+/tSIcWLVNv7j3KSF2PAA==</td>\n",
              "      <td>NaN</td>\n",
              "      <td>{'id': '', 'keywords': 'technology, investment...</td>\n",
              "      <td>90MeDqdQIJunwWtvNqtJ+Q==</td>\n",
              "      <td>Technology</td>\n",
              "      <td>0</td>\n",
              "      <td>True</td>\n",
              "      <td>1.0</td>\n",
              "      <td>2</td>\n",
              "      <td>NaN</td>\n",
              "      <td>2018-12-04 23:59:59.008 UTC</td>\n",
              "      <td>False</td>\n",
              "    </tr>\n",
              "    <tr>\n",
              "      <th>1088096</th>\n",
              "      <td>0</td>\n",
              "      <td>firefox</td>\n",
              "      <td>jilM9FQulvUEoy75lV0z8A==</td>\n",
              "      <td>Brick</td>\n",
              "      <td>{'id': '', 'keywords': 'mad money, s&amp;p 500 ind...</td>\n",
              "      <td>16XTT4UJTzbCa5AnaKmtgQ==</td>\n",
              "      <td>Mad Money</td>\n",
              "      <td>0</td>\n",
              "      <td>True</td>\n",
              "      <td>1.0</td>\n",
              "      <td>13</td>\n",
              "      <td>New Jersey</td>\n",
              "      <td>2018-12-04 23:59:59.086 UTC</td>\n",
              "      <td>False</td>\n",
              "    </tr>\n",
              "    <tr>\n",
              "      <th>1088097</th>\n",
              "      <td>0</td>\n",
              "      <td>bot</td>\n",
              "      <td>kn8sy0DJ7alAZT0UFAS3Fw==</td>\n",
              "      <td>NaN</td>\n",
              "      <td>{'id': '', 'keywords': 'technology, enterprise...</td>\n",
              "      <td>ojEJJ61bWD0x2eE2iZN1sg==</td>\n",
              "      <td>Technology</td>\n",
              "      <td>0</td>\n",
              "      <td>True</td>\n",
              "      <td>1.0</td>\n",
              "      <td>13</td>\n",
              "      <td>Virginia</td>\n",
              "      <td>2018-12-04 23:59:59.137 UTC</td>\n",
              "      <td>False</td>\n",
              "    </tr>\n",
              "    <tr>\n",
              "      <th>1088098</th>\n",
              "      <td>0</td>\n",
              "      <td>bot</td>\n",
              "      <td>AJvGyqraDObh8pWWjjJdzQ==</td>\n",
              "      <td>NaN</td>\n",
              "      <td>{'id': '', 'keywords': 'markets, stocks, world...</td>\n",
              "      <td>qhFnfSN7LCtDX9feysDXrQ==</td>\n",
              "      <td>Markets</td>\n",
              "      <td>0</td>\n",
              "      <td>True</td>\n",
              "      <td>1.0</td>\n",
              "      <td>13</td>\n",
              "      <td>NaN</td>\n",
              "      <td>2018-12-04 23:59:59.142 UTC</td>\n",
              "      <td>False</td>\n",
              "    </tr>\n",
              "    <tr>\n",
              "      <th>1088099</th>\n",
              "      <td>0</td>\n",
              "      <td>safari</td>\n",
              "      <td>ykiwVz/LW+hEjaJEJqYwlQ==</td>\n",
              "      <td>Calgary</td>\n",
              "      <td>{'id': '', 'keywords': 'futures now, jobs, u.s...</td>\n",
              "      <td>JqqCgDwva6xL2cChcKhwFQ==</td>\n",
              "      <td>Futures Now</td>\n",
              "      <td>0</td>\n",
              "      <td>True</td>\n",
              "      <td>1.0</td>\n",
              "      <td>11</td>\n",
              "      <td>Alberta</td>\n",
              "      <td>2018-12-04 23:59:59.147 UTC</td>\n",
              "      <td>False</td>\n",
              "    </tr>\n",
              "    <tr>\n",
              "      <th>1088100</th>\n",
              "      <td>0</td>\n",
              "      <td>safari</td>\n",
              "      <td>Bg+5bJJEIIxA/Yd4RPCSTQ==</td>\n",
              "      <td>Houston</td>\n",
              "      <td>{'id': '', 'keywords': 'mad money, trade regul...</td>\n",
              "      <td>16XTT4UJTzbCa5AnaKmtgQ==</td>\n",
              "      <td>Mad Money</td>\n",
              "      <td>0</td>\n",
              "      <td>True</td>\n",
              "      <td>1.0</td>\n",
              "      <td>11</td>\n",
              "      <td>Texas</td>\n",
              "      <td>2018-12-04 23:59:59.173 UTC</td>\n",
              "      <td>False</td>\n",
              "    </tr>\n",
              "    <tr>\n",
              "      <th>1088101</th>\n",
              "      <td>0</td>\n",
              "      <td>safari</td>\n",
              "      <td>i+bfyy56mD9dcqvXiZ+WOg==</td>\n",
              "      <td>Gilbert</td>\n",
              "      <td>{'id': '', 'keywords': 'markets, donald trump,...</td>\n",
              "      <td>6B3ET57LpBYclxK/RENjkQ==</td>\n",
              "      <td>Markets</td>\n",
              "      <td>0</td>\n",
              "      <td>True</td>\n",
              "      <td>1.0</td>\n",
              "      <td>0</td>\n",
              "      <td>Arizona</td>\n",
              "      <td>2018-12-04 23:59:59.241 UTC</td>\n",
              "      <td>False</td>\n",
              "    </tr>\n",
              "    <tr>\n",
              "      <th>1088102</th>\n",
              "      <td>0</td>\n",
              "      <td>bot</td>\n",
              "      <td>VUm0E35pEi3cWpNcoUUWSQ==</td>\n",
              "      <td>NaN</td>\n",
              "      <td>{'id': '', 'keywords': 'personal finance, coll...</td>\n",
              "      <td>qhFnfSN7LCtDX9feysDXrQ==</td>\n",
              "      <td>Personal Finance</td>\n",
              "      <td>0</td>\n",
              "      <td>True</td>\n",
              "      <td>1.0</td>\n",
              "      <td>13</td>\n",
              "      <td>NaN</td>\n",
              "      <td>2018-12-04 23:59:59.257 UTC</td>\n",
              "      <td>False</td>\n",
              "    </tr>\n",
              "    <tr>\n",
              "      <th>1088103</th>\n",
              "      <td>0</td>\n",
              "      <td>safari</td>\n",
              "      <td>S8j/7qJtiQ37jW4uaTgBgw==</td>\n",
              "      <td>Tampa</td>\n",
              "      <td>{'id': '', 'keywords': 'mad money, s&amp;p 500 ind...</td>\n",
              "      <td>16XTT4UJTzbCa5AnaKmtgQ==</td>\n",
              "      <td>Mad Money</td>\n",
              "      <td>0</td>\n",
              "      <td>True</td>\n",
              "      <td>1.0</td>\n",
              "      <td>13</td>\n",
              "      <td>Florida</td>\n",
              "      <td>2018-12-04 23:59:59.336 UTC</td>\n",
              "      <td>False</td>\n",
              "    </tr>\n",
              "    <tr>\n",
              "      <th>1088104</th>\n",
              "      <td>0</td>\n",
              "      <td>chrome</td>\n",
              "      <td>zMfHCSn+xOQtD+mUkOCIDA==</td>\n",
              "      <td>Lubbock</td>\n",
              "      <td>{'id': '', 'keywords': 'technology, netflix in...</td>\n",
              "      <td>dBD2A5VOrQMon3z2TmMOaA==</td>\n",
              "      <td>Technology</td>\n",
              "      <td>0</td>\n",
              "      <td>True</td>\n",
              "      <td>1.0</td>\n",
              "      <td>0</td>\n",
              "      <td>Texas</td>\n",
              "      <td>2018-12-04 23:59:59.342 UTC</td>\n",
              "      <td>False</td>\n",
              "    </tr>\n",
              "    <tr>\n",
              "      <th>1088105</th>\n",
              "      <td>1</td>\n",
              "      <td>firefox</td>\n",
              "      <td>BG1T+EBznOIl9nDxlom6rA==</td>\n",
              "      <td>Valenzuela</td>\n",
              "      <td>{'id': '', 'keywords': 'market insider, u.s. 1...</td>\n",
              "      <td>Pt8bcy625lIuWVrQ1wDeuA==</td>\n",
              "      <td>Market Insider</td>\n",
              "      <td>0</td>\n",
              "      <td>True</td>\n",
              "      <td>1.0</td>\n",
              "      <td>2</td>\n",
              "      <td>Manila</td>\n",
              "      <td>2018-12-04 23:59:59.346 UTC</td>\n",
              "      <td>False</td>\n",
              "    </tr>\n",
              "    <tr>\n",
              "      <th>1088106</th>\n",
              "      <td>0</td>\n",
              "      <td>ie</td>\n",
              "      <td>JIZNaFa64DjGkkYRtV/aOQ==</td>\n",
              "      <td>Cranberry Township</td>\n",
              "      <td>{'id': '', 'keywords': 'some, anchors, reporte...</td>\n",
              "      <td>qhFnfSN7LCtDX9feysDXrQ==</td>\n",
              "      <td>CNBC Anchors and Reporters</td>\n",
              "      <td>0</td>\n",
              "      <td>True</td>\n",
              "      <td>1.0</td>\n",
              "      <td>0</td>\n",
              "      <td>Pennsylvania</td>\n",
              "      <td>2018-12-04 23:59:59.398 UTC</td>\n",
              "      <td>False</td>\n",
              "    </tr>\n",
              "    <tr>\n",
              "      <th>1088107</th>\n",
              "      <td>0</td>\n",
              "      <td>safari</td>\n",
              "      <td>S3+u3HCf2GWjGQVRT1PuNQ==</td>\n",
              "      <td>Toronto</td>\n",
              "      <td>{'id': '', 'keywords': 'media,entertainment,in...</td>\n",
              "      <td>MmFoUPWfK23fNTRnDzW+mg==</td>\n",
              "      <td></td>\n",
              "      <td>0</td>\n",
              "      <td>True</td>\n",
              "      <td>1.0</td>\n",
              "      <td>11</td>\n",
              "      <td>Ontario</td>\n",
              "      <td>2018-12-04 23:59:59.752 UTC</td>\n",
              "      <td>False</td>\n",
              "    </tr>\n",
              "    <tr>\n",
              "      <th>1088108</th>\n",
              "      <td>0</td>\n",
              "      <td>safari</td>\n",
              "      <td>TMH1OqWmr682tMeGbDKIsA==</td>\n",
              "      <td>Toronto</td>\n",
              "      <td>{'id': '', 'keywords': 'media,entertainment,in...</td>\n",
              "      <td>MmFoUPWfK23fNTRnDzW+mg==</td>\n",
              "      <td></td>\n",
              "      <td>0</td>\n",
              "      <td>True</td>\n",
              "      <td>0.0</td>\n",
              "      <td>13</td>\n",
              "      <td>Ontario</td>\n",
              "      <td>2018-12-04 23:59:59.77 UTC</td>\n",
              "      <td>False</td>\n",
              "    </tr>\n",
              "    <tr>\n",
              "      <th>1088109</th>\n",
              "      <td>0</td>\n",
              "      <td>chrome</td>\n",
              "      <td>5rzsp/v9myI24qD/W9EvAw==</td>\n",
              "      <td>La Habra</td>\n",
              "      <td>{'id': '', 'keywords': 'markets, economy, stoc...</td>\n",
              "      <td>0ofgjZ1mmpI/Lojgdr8oSA==</td>\n",
              "      <td>Markets</td>\n",
              "      <td>0</td>\n",
              "      <td>True</td>\n",
              "      <td>1.0</td>\n",
              "      <td>12</td>\n",
              "      <td>California</td>\n",
              "      <td>2018-12-04 23:59:59.926 UTC</td>\n",
              "      <td>False</td>\n",
              "    </tr>\n",
              "    <tr>\n",
              "      <th>1088110</th>\n",
              "      <td>0</td>\n",
              "      <td>safari</td>\n",
              "      <td>mSuVziwJViX6JOwabci1tA==</td>\n",
              "      <td>Saint Petersburg</td>\n",
              "      <td>{'id': '', 'keywords': 'investing, jim cramer,...</td>\n",
              "      <td>SfVz28G0NrFypdopQMIa3w==</td>\n",
              "      <td>Investing</td>\n",
              "      <td>0</td>\n",
              "      <td>True</td>\n",
              "      <td>1.0</td>\n",
              "      <td>12</td>\n",
              "      <td>Florida</td>\n",
              "      <td>2018-12-04 23:59:59.931 UTC</td>\n",
              "      <td>False</td>\n",
              "    </tr>\n",
              "  </tbody>\n",
              "</table>\n",
              "<p>1088111 rows × 14 columns</p>\n",
              "</div>"
            ],
            "text/plain": [
              "         adblockerStatus  browser  ...                unixTimestamp    Ret\n",
              "0                      0   safari  ...   2018-12-04 00:00:00.03 UTC  False\n",
              "1                      0   safari  ...  2018-12-04 00:00:00.071 UTC  False\n",
              "2                      0   chrome  ...  2018-12-04 00:00:00.095 UTC  False\n",
              "3                      0   chrome  ...  2018-12-04 00:00:00.156 UTC  False\n",
              "4                      1   chrome  ...  2018-12-04 00:00:00.219 UTC  False\n",
              "5                      0   chrome  ...  2018-12-04 00:00:00.292 UTC  False\n",
              "6                      0  firefox  ...  2018-12-04 00:00:00.413 UTC  False\n",
              "7                      0   safari  ...  2018-12-04 00:00:00.502 UTC  False\n",
              "8                      0   chrome  ...  2018-12-04 00:00:00.561 UTC  False\n",
              "9                      0     misc  ...  2018-12-04 00:00:00.587 UTC  False\n",
              "10                     0   safari  ...   2018-12-04 00:00:00.64 UTC  False\n",
              "11                     0   chrome  ...  2018-12-04 00:00:00.668 UTC  False\n",
              "12                     1   chrome  ...    2018-12-04 00:00:00.7 UTC  False\n",
              "13                     0   chrome  ...  2018-12-04 00:00:00.935 UTC  False\n",
              "14                     0   safari  ...  2018-12-04 00:00:00.961 UTC  False\n",
              "15                     0   chrome  ...   2018-12-04 00:00:00.97 UTC  False\n",
              "16                     0   chrome  ...  2018-12-04 00:00:01.005 UTC  False\n",
              "17                     0      bot  ...  2018-12-04 00:00:01.088 UTC  False\n",
              "18                     0   chrome  ...  2018-12-04 00:00:01.123 UTC  False\n",
              "19                     0       ie  ...  2018-12-04 00:00:01.123 UTC  False\n",
              "20                     0   safari  ...  2018-12-04 00:00:01.237 UTC  False\n",
              "21                     0   chrome  ...  2018-12-04 00:00:01.249 UTC  False\n",
              "22                     0  firefox  ...  2018-12-04 00:00:01.437 UTC  False\n",
              "23                     0   safari  ...  2018-12-04 00:00:01.472 UTC  False\n",
              "24                     0   chrome  ...  2018-12-04 00:00:01.487 UTC  False\n",
              "25                     0   safari  ...  2018-12-04 00:00:01.577 UTC  False\n",
              "26                     0      bot  ...  2018-12-04 00:00:01.593 UTC  False\n",
              "27                     0   safari  ...   2018-12-04 00:00:01.61 UTC  False\n",
              "28                     0   chrome  ...  2018-12-04 00:00:01.657 UTC  False\n",
              "29                     0   safari  ...  2018-12-04 00:00:01.851 UTC  False\n",
              "...                  ...      ...  ...                          ...    ...\n",
              "1088081                0   chrome  ...   2018-12-04 23:59:58.14 UTC  False\n",
              "1088082               -1   safari  ...  2018-12-04 23:59:58.168 UTC  False\n",
              "1088083                0  firefox  ...  2018-12-04 23:59:58.192 UTC   True\n",
              "1088084                0  firefox  ...  2018-12-04 23:59:58.235 UTC  False\n",
              "1088085                0  firefox  ...  2018-12-04 23:59:58.307 UTC  False\n",
              "1088086                0       ie  ...  2018-12-04 23:59:58.484 UTC  False\n",
              "1088087                0   chrome  ...    2018-12-04 23:59:58.6 UTC  False\n",
              "1088088                0   safari  ...  2018-12-04 23:59:58.644 UTC  False\n",
              "1088089                0       ie  ...  2018-12-04 23:59:58.735 UTC  False\n",
              "1088090                0     misc  ...  2018-12-04 23:59:58.749 UTC  False\n",
              "1088091                0   safari  ...  2018-12-04 23:59:58.778 UTC  False\n",
              "1088092                0   safari  ...  2018-12-04 23:59:58.786 UTC  False\n",
              "1088093                0   safari  ...  2018-12-04 23:59:58.881 UTC  False\n",
              "1088094                0   safari  ...  2018-12-04 23:59:58.927 UTC  False\n",
              "1088095                0   safari  ...  2018-12-04 23:59:59.008 UTC  False\n",
              "1088096                0  firefox  ...  2018-12-04 23:59:59.086 UTC  False\n",
              "1088097                0      bot  ...  2018-12-04 23:59:59.137 UTC  False\n",
              "1088098                0      bot  ...  2018-12-04 23:59:59.142 UTC  False\n",
              "1088099                0   safari  ...  2018-12-04 23:59:59.147 UTC  False\n",
              "1088100                0   safari  ...  2018-12-04 23:59:59.173 UTC  False\n",
              "1088101                0   safari  ...  2018-12-04 23:59:59.241 UTC  False\n",
              "1088102                0      bot  ...  2018-12-04 23:59:59.257 UTC  False\n",
              "1088103                0   safari  ...  2018-12-04 23:59:59.336 UTC  False\n",
              "1088104                0   chrome  ...  2018-12-04 23:59:59.342 UTC  False\n",
              "1088105                1  firefox  ...  2018-12-04 23:59:59.346 UTC  False\n",
              "1088106                0       ie  ...  2018-12-04 23:59:59.398 UTC  False\n",
              "1088107                0   safari  ...  2018-12-04 23:59:59.752 UTC  False\n",
              "1088108                0   safari  ...   2018-12-04 23:59:59.77 UTC  False\n",
              "1088109                0   chrome  ...  2018-12-04 23:59:59.926 UTC  False\n",
              "1088110                0   safari  ...  2018-12-04 23:59:59.931 UTC  False\n",
              "\n",
              "[1088111 rows x 14 columns]"
            ]
          },
          "metadata": {
            "tags": []
          },
          "execution_count": 23
        }
      ]
    },
    {
      "cell_type": "code",
      "metadata": {
        "id": "wJ7tcNsMyOHG",
        "colab_type": "code",
        "outputId": "e1dffbd5-f48f-49dc-bbe4-219ad50c362c",
        "colab": {
          "base_uri": "https://localhost:8080/",
          "height": 34
        }
      },
      "source": [
        "sum(df['Ret']) #true values"
      ],
      "execution_count": 24,
      "outputs": [
        {
          "output_type": "execute_result",
          "data": {
            "text/plain": [
              "43219"
            ]
          },
          "metadata": {
            "tags": []
          },
          "execution_count": 24
        }
      ]
    },
    {
      "cell_type": "code",
      "metadata": {
        "id": "fZSw0hKFycIg",
        "colab_type": "code",
        "outputId": "b15a0ec1-7377-495e-e892-c91197c1e58d",
        "colab": {
          "base_uri": "https://localhost:8080/",
          "height": 34
        }
      },
      "source": [
        "len(df['Ret'])-sum(df['Ret']) #false values, we see that data is unbalanced"
      ],
      "execution_count": 25,
      "outputs": [
        {
          "output_type": "execute_result",
          "data": {
            "text/plain": [
              "1044892"
            ]
          },
          "metadata": {
            "tags": []
          },
          "execution_count": 25
        }
      ]
    },
    {
      "cell_type": "code",
      "metadata": {
        "id": "7HTmUAquzPen",
        "colab_type": "code",
        "colab": {}
      },
      "source": [
        "from sklearn.feature_extraction.text import CountVectorizer\n",
        "from sklearn.model_selection import cross_val_score, cross_val_predict\n",
        "from sklearn import metrics\n",
        "from sklearn.model_selection import train_test_split\n",
        "from sklearn import linear_model\n",
        "from sklearn.linear_model import LogisticRegression\n",
        "import featuretools as ft\n",
        "from sklearn.metrics import confusion_matrix\n",
        "from sklearn.metrics import precision_score"
      ],
      "execution_count": 0,
      "outputs": []
    },
    {
      "cell_type": "code",
      "metadata": {
        "id": "CPpQ1OXZzgyi",
        "colab_type": "code",
        "outputId": "1708fb48-cc03-44ef-a468-f671df8ae5d4",
        "colab": {
          "base_uri": "https://localhost:8080/",
          "height": 68
        }
      },
      "source": [
        "df_majority = df[df['Ret']==False] #balancing our dataset\n",
        "df_minority = df[df['Ret']==True]\n",
        "# resample minority class\n",
        "\n",
        "from sklearn.utils import resample\n",
        "df_majority_upsampled = resample(df_majority, \n",
        "                                 replace=True,     \n",
        "                                 n_samples=43219, random_state=123)   \n",
        "df_up = pd.concat([df_minority, df_majority_upsampled])\n",
        "df_up['Ret'].value_counts() #resampled dataframe"
      ],
      "execution_count": 27,
      "outputs": [
        {
          "output_type": "execute_result",
          "data": {
            "text/plain": [
              "True     43219\n",
              "False    43219\n",
              "Name: Ret, dtype: int64"
            ]
          },
          "metadata": {
            "tags": []
          },
          "execution_count": 27
        }
      ]
    },
    {
      "cell_type": "code",
      "metadata": {
        "id": "TAnnZLZBzqxO",
        "colab_type": "code",
        "colab": {}
      },
      "source": [
        "X = df_up['contentAuthor'] #one feature as input\n",
        "Y = df_up['Ret']\n",
        "X_train, X_test, Y_train, Y_test = train_test_split(X, Y, test_size=0.33)\n",
        "cvec = CountVectorizer(stop_words='english').fit(X_train) #in this work we will use 3 embedding alghorithms, CountVectorizer is the first\n",
        "df_train=pd.DataFrame(cvec.transform(X_train).todense(), columns=cvec.get_feature_names())\n",
        "df_test=pd.DataFrame(cvec.transform(X_test).todense(), columns=cvec.get_feature_names())"
      ],
      "execution_count": 0,
      "outputs": []
    },
    {
      "cell_type": "code",
      "metadata": {
        "id": "yK2mR_3Tz5K6",
        "colab_type": "code",
        "outputId": "47db05b8-a91c-47cb-9ac8-92a80b8691c1",
        "colab": {
          "base_uri": "https://localhost:8080/",
          "height": 85
        }
      },
      "source": [
        "lr = LogisticRegression(penalty='l1') #logistic regression for sparse matrice\n",
        "lr.fit(df_train, Y_train)\n",
        "Y_pred=lr.predict(df_test)\n",
        "print(lr.score(df_test, Y_test))\n",
        "print(confusion_matrix(Y_test, Y_pred))\n",
        "print(precision_score(Y_test, Y_pred))"
      ],
      "execution_count": 103,
      "outputs": [
        {
          "output_type": "stream",
          "text": [
            "0.5981419807186679\n",
            "[[9123 5087]\n",
            " [6376 7939]]\n",
            "0.609473360970367\n"
          ],
          "name": "stdout"
        }
      ]
    },
    {
      "cell_type": "code",
      "metadata": {
        "id": "WRoQKvrm05RV",
        "colab_type": "code",
        "colab": {}
      },
      "source": [
        "\n",
        "dfna=df_up.dropna()\n",
        "X1=dfna['adblockerStatus']\n",
        "X2=dfna['browser']\n",
        "X3=dfna['city']\n",
        "\n",
        "X5=dfna['contentAuthor']\n",
        "X6=dfna['contentSection']\n",
        "\n",
        "X8=dfna['region']\n",
        "Y=dfna['Ret']\n",
        "X2=cvec.fit_transform(X2)\n",
        "X3=cvec.fit_transform(X3)\n",
        "\n",
        "X5=cvec.fit_transform(X5)\n",
        "X6=cvec.fit_transform(X6)\n",
        "\n",
        "X8=cvec.fit_transform(X8)\n",
        "from scipy.sparse import coo_matrix, vstack, hstack\n",
        "X=hstack([X2, X3, X5, X6, X8])\n",
        "(X_train, X_test) = train_test_split(X)\n",
        "(Y_train, Y_test) = train_test_split(Y)"
      ],
      "execution_count": 0,
      "outputs": []
    },
    {
      "cell_type": "code",
      "metadata": {
        "id": "esR5dugj2Mu8",
        "colab_type": "code",
        "outputId": "faef5cae-4269-445d-e5b9-30ee0ab67f60",
        "colab": {
          "base_uri": "https://localhost:8080/",
          "height": 85
        }
      },
      "source": [
        "lr = LogisticRegression(penalty='l1') \n",
        "lr.fit(X_train, Y_train)\n",
        "Y_pred=lr.predict(X_test)\n",
        "print(lr.score(X_test, Y_test))\n",
        "print(confusion_matrix(Y_test, Y_pred))\n",
        "print(precision_score(Y_test, Y_pred))"
      ],
      "execution_count": 106,
      "outputs": [
        {
          "output_type": "stream",
          "text": [
            "0.5147741663149008\n",
            "[[2330 6556]\n",
            " [2640 7426]]\n",
            "0.5311114289801173\n"
          ],
          "name": "stdout"
        }
      ]
    },
    {
      "cell_type": "code",
      "metadata": {
        "id": "ZI1h66O52Pu3",
        "colab_type": "code",
        "colab": {}
      },
      "source": [
        "from sklearn import tree #decision tree alghorithm\n",
        "clf = tree.DecisionTreeClassifier(class_weight=None, criterion='gini', max_depth=3,\n",
        "            max_features=None, max_leaf_nodes=None, min_samples_leaf=5,\n",
        "            min_samples_split=2, min_weight_fraction_leaf=0.0,\n",
        "            presort=False, random_state=100, splitter='best')\n",
        "clf = clf.fit(X_train, Y_train)"
      ],
      "execution_count": 0,
      "outputs": []
    },
    {
      "cell_type": "code",
      "metadata": {
        "id": "lnTCkwQz5ziI",
        "colab_type": "code",
        "colab": {}
      },
      "source": [
        "from sklearn.model_selection import cross_val_score\n",
        "from sklearn.metrics import accuracy_score\n",
        "Y_pred=clf.predict(X_test)"
      ],
      "execution_count": 0,
      "outputs": []
    },
    {
      "cell_type": "code",
      "metadata": {
        "id": "gjaYo5ZK6VdB",
        "colab_type": "code",
        "outputId": "b393ce95-25c7-49c0-d624-553c23e4d0bf",
        "colab": {
          "base_uri": "https://localhost:8080/",
          "height": 85
        }
      },
      "source": [
        "print(accuracy_score(Y_test, Y_pred, normalize=True))\n",
        "print(confusion_matrix(Y_test, Y_pred))\n",
        "print(precision_score(Y_test, Y_pred))#not the best score with multiple categorial features"
      ],
      "execution_count": 109,
      "outputs": [
        {
          "output_type": "stream",
          "text": [
            "0.5311312790206838\n",
            "[[   10  8876]\n",
            " [   10 10056]]\n",
            "0.5311641664905979\n"
          ],
          "name": "stdout"
        }
      ]
    },
    {
      "cell_type": "code",
      "metadata": {
        "id": "bIup8VPt6XKN",
        "colab_type": "code",
        "outputId": "9b82eda1-c129-4851-f66e-51bd55bdd527",
        "colab": {
          "base_uri": "https://localhost:8080/",
          "height": 85
        }
      },
      "source": [
        "X = df_up['contentAuthor'] \n",
        "Y = df_up['Ret']\n",
        "X_train, X_test, Y_train, Y_test = train_test_split(X, Y, test_size=0.33)\n",
        "cvec = CountVectorizer(stop_words='english').fit(X_train)\n",
        "df_train=pd.DataFrame(cvec.transform(X_train).todense(), columns=cvec.get_feature_names())\n",
        "df_test=pd.DataFrame(cvec.transform(X_test).todense(), columns=cvec.get_feature_names())\n",
        "clf = clf.fit(df_train, Y_train)\n",
        "Y_pred=clf.predict(df_test) #randomforest classifier for contentAuthor feature\n",
        "print(accuracy_score(Y_test, Y_pred, normalize=True))\n",
        "print(confusion_matrix(Y_test, Y_pred))\n",
        "print(precision_score(Y_test, Y_pred))\n"
      ],
      "execution_count": 110,
      "outputs": [
        {
          "output_type": "stream",
          "text": [
            "0.592182296231376\n",
            "[[11076  3263]\n",
            " [ 8370  5816]]\n",
            "0.6405991849322613\n"
          ],
          "name": "stdout"
        }
      ]
    },
    {
      "cell_type": "code",
      "metadata": {
        "id": "QGoTq2IpQX7R",
        "colab_type": "code",
        "colab": {
          "base_uri": "https://localhost:8080/",
          "height": 51
        },
        "outputId": "fa53dc76-3a42-4363-ee19-32e09486e6dd"
      },
      "source": [
        ""
      ],
      "execution_count": 100,
      "outputs": [
        {
          "output_type": "execute_result",
          "data": {
            "text/plain": [
              "array([[10989,  3221],\n",
              "       [ 8374,  5941]])"
            ]
          },
          "metadata": {
            "tags": []
          },
          "execution_count": 100
        }
      ]
    },
    {
      "cell_type": "code",
      "metadata": {
        "id": "xN0zw6iqm2bI",
        "colab_type": "code",
        "outputId": "6cdbe66c-33fc-475a-b25f-8f5594188583",
        "colab": {
          "base_uri": "https://localhost:8080/",
          "height": 85
        }
      },
      "source": [
        "from sklearn.feature_extraction.text import TfidfVectorizer\n",
        "vectorizer = TfidfVectorizer()\n",
        "X=df_up['contentAuthor']\n",
        "Y = df_up['Ret']\n",
        "X=vectorizer.fit_transform(X)\n",
        "X_train, X_test, Y_train, Y_test = train_test_split(X, Y, test_size=0.33)\n",
        "lr.fit(X_train, Y_train)\n",
        "Y_pred=lr.predict(X_test)\n",
        "print(lr.score(X_test, Y_test))\n",
        "print(confusion_matrix(Y_test, Y_pred))\n",
        "print(precision_score(Y_test, Y_pred))\n"
      ],
      "execution_count": 111,
      "outputs": [
        {
          "output_type": "stream",
          "text": [
            "0.6017879053461875\n",
            "[[9543 4790]\n",
            " [6569 7623]]\n",
            "0.6141142350761298\n"
          ],
          "name": "stdout"
        }
      ]
    },
    {
      "cell_type": "code",
      "metadata": {
        "id": "JWVOMccl63ra",
        "colab_type": "code",
        "outputId": "7c3577a6-5a14-45ea-e38c-2fbba4e9aa83",
        "colab": {
          "base_uri": "https://localhost:8080/",
          "height": 204
        }
      },
      "source": [
        "!pip install category_encoders\n",
        "import category_encoders as ce\n",
        "ce_binary = ce.BinaryEncoder(cols = ['contentAuthor'])"
      ],
      "execution_count": 112,
      "outputs": [
        {
          "output_type": "stream",
          "text": [
            "Requirement already satisfied: category_encoders in /usr/local/lib/python3.6/dist-packages (2.0.0)\n",
            "Requirement already satisfied: patsy>=0.4.1 in /usr/local/lib/python3.6/dist-packages (from category_encoders) (0.5.1)\n",
            "Requirement already satisfied: numpy>=1.11.3 in /usr/local/lib/python3.6/dist-packages (from category_encoders) (1.16.4)\n",
            "Requirement already satisfied: pandas>=0.21.1 in /usr/local/lib/python3.6/dist-packages (from category_encoders) (0.24.2)\n",
            "Requirement already satisfied: statsmodels>=0.6.1 in /usr/local/lib/python3.6/dist-packages (from category_encoders) (0.9.0)\n",
            "Requirement already satisfied: scikit-learn>=0.20.0 in /usr/local/lib/python3.6/dist-packages (from category_encoders) (0.21.2)\n",
            "Requirement already satisfied: scipy>=0.19.0 in /usr/local/lib/python3.6/dist-packages (from category_encoders) (1.3.0)\n",
            "Requirement already satisfied: six in /usr/local/lib/python3.6/dist-packages (from patsy>=0.4.1->category_encoders) (1.12.0)\n",
            "Requirement already satisfied: python-dateutil>=2.5.0 in /usr/local/lib/python3.6/dist-packages (from pandas>=0.21.1->category_encoders) (2.5.3)\n",
            "Requirement already satisfied: pytz>=2011k in /usr/local/lib/python3.6/dist-packages (from pandas>=0.21.1->category_encoders) (2018.9)\n",
            "Requirement already satisfied: joblib>=0.11 in /usr/local/lib/python3.6/dist-packages (from scikit-learn>=0.20.0->category_encoders) (0.13.2)\n"
          ],
          "name": "stdout"
        }
      ]
    },
    {
      "cell_type": "code",
      "metadata": {
        "id": "11aleOlQ9Ceh",
        "colab_type": "code",
        "colab": {}
      },
      "source": [
        "x=df_up['contentAuthor']\n",
        "y=df_up['Ret']\n",
        "x=ce_binary.fit_transform(x) #binary encoder as alternate to TF-Idf, Tf and CVEC encoders\n",
        "X_train, X_test, Y_train, Y_test = train_test_split(x, y, test_size=0.33)"
      ],
      "execution_count": 0,
      "outputs": []
    },
    {
      "cell_type": "code",
      "metadata": {
        "id": "y5pQHcur-LZu",
        "colab_type": "code",
        "colab": {
          "base_uri": "https://localhost:8080/",
          "height": 85
        },
        "outputId": "dd38dbd4-cded-4686-baae-cfbd3dab71cf"
      },
      "source": [
        "clf = clf.fit(X_train, Y_train)\n",
        "Y_pred=clf.predict(X_test)\n",
        "print(accuracy_score(Y_test, Y_pred, normalize=True))\n",
        "print(confusion_matrix(Y_test, Y_pred))\n",
        "print(precision_score(Y_test, Y_pred))"
      ],
      "execution_count": 114,
      "outputs": [
        {
          "output_type": "stream",
          "text": [
            "0.5886415425065732\n",
            "[[10328  3995]\n",
            " [ 7739  6463]]\n",
            "0.6179957926945878\n"
          ],
          "name": "stdout"
        }
      ]
    },
    {
      "cell_type": "code",
      "metadata": {
        "id": "-RkY9xvyC3NM",
        "colab_type": "code",
        "outputId": "1a10ab96-8b2f-47ff-d4fb-a9ed0acffcd4",
        "colab": {
          "base_uri": "https://localhost:8080/",
          "height": 85
        }
      },
      "source": [
        "lr.fit(X_train, Y_train)\n",
        "Y_pred=lr.predict(X_test)\n",
        "print(accuracy_score(Y_test, Y_pred, normalize=True))\n",
        "print(confusion_matrix(Y_test, Y_pred))\n",
        "print(precision_score(Y_test, Y_pred))"
      ],
      "execution_count": 116,
      "outputs": [
        {
          "output_type": "stream",
          "text": [
            "0.5865030674846625\n",
            "[[8888 5435]\n",
            " [6360 7842]]\n",
            "0.5906454771409204\n"
          ],
          "name": "stdout"
        }
      ]
    },
    {
      "cell_type": "code",
      "metadata": {
        "id": "l2s1rnlnAy3s",
        "colab_type": "code",
        "colab": {}
      },
      "source": [
        "x=df_up['contentSection']\n",
        "y=df_up['Ret']\n",
        "ce_binary = ce.BinaryEncoder(cols = ['contentSection'])\n",
        "x=ce_binary.fit_transform(x)"
      ],
      "execution_count": 0,
      "outputs": []
    },
    {
      "cell_type": "code",
      "metadata": {
        "id": "_FMhsAR9BRwI",
        "colab_type": "code",
        "outputId": "e2e4da92-e0c8-4a92-f058-56450244018b",
        "colab": {
          "base_uri": "https://localhost:8080/",
          "height": 85
        }
      },
      "source": [
        "X_train, X_test, Y_train, Y_test = train_test_split(x, y, test_size=0.33)\n",
        "clf = clf.fit(X_train, Y_train)\n",
        "Y_pred=clf.predict(X_test)\n",
        "print(accuracy_score(Y_test, Y_pred, normalize=True))\n",
        "print(confusion_matrix(Y_test, Y_pred))\n",
        "print(precision_score(Y_test, Y_pred))"
      ],
      "execution_count": 118,
      "outputs": [
        {
          "output_type": "stream",
          "text": [
            "0.5797721297107801\n",
            "[[11842  2480]\n",
            " [ 9507  4696]]\n",
            "0.6544035674470458\n"
          ],
          "name": "stdout"
        }
      ]
    },
    {
      "cell_type": "code",
      "metadata": {
        "id": "Xz6VSxxEDGyQ",
        "colab_type": "code",
        "outputId": "ed61ca8f-464d-4d84-f15e-5bcfe73aecf8",
        "colab": {
          "base_uri": "https://localhost:8080/",
          "height": 85
        }
      },
      "source": [
        "lr.fit(X_train, Y_train)\n",
        "Y_pred=lr.predict(X_test)\n",
        "print(accuracy_score(Y_test, Y_pred, normalize=True))\n",
        "print(confusion_matrix(Y_test, Y_pred))\n",
        "print(precision_score(Y_test, Y_pred))"
      ],
      "execution_count": 119,
      "outputs": [
        {
          "output_type": "stream",
          "text": [
            "0.5893426818580193\n",
            "[[10253  4069]\n",
            " [ 7645  6558]]\n",
            "0.6171073680248423\n"
          ],
          "name": "stdout"
        }
      ]
    },
    {
      "cell_type": "code",
      "metadata": {
        "id": "TBm7F_gLBYEk",
        "colab_type": "code",
        "colab": {}
      },
      "source": [
        "from sklearn.feature_extraction.text import TfidfVectorizer\n",
        "X=df_up['contentSection']\n",
        "X=vectorizer.fit_transform(X)\n",
        "X_train, X_test, Y_train, Y_test = train_test_split(X, Y, test_size=0.33)\n"
      ],
      "execution_count": 0,
      "outputs": []
    },
    {
      "cell_type": "code",
      "metadata": {
        "id": "TVYn1XuhnMex",
        "colab_type": "code",
        "outputId": "23a055e4-9f56-42ef-adb4-acc5120cef91",
        "colab": {
          "base_uri": "https://localhost:8080/",
          "height": 85
        }
      },
      "source": [
        "lr.fit(X_train, Y_train)\n",
        "Y_pred=lr.predict(X_test)\n",
        "print(accuracy_score(Y_test, Y_pred, normalize=True))\n",
        "print(confusion_matrix(Y_test, Y_pred))\n",
        "print(precision_score(Y_test, Y_pred))"
      ],
      "execution_count": 121,
      "outputs": [
        {
          "output_type": "stream",
          "text": [
            "0.6112182296231375\n",
            "[[10370  3947]\n",
            " [ 7143  7065]]\n",
            "0.6415728296403923\n"
          ],
          "name": "stdout"
        }
      ]
    },
    {
      "cell_type": "code",
      "metadata": {
        "id": "NwdCWjHLB729",
        "colab_type": "code",
        "colab": {}
      },
      "source": [
        "x=df_up['contentSection']\n",
        "y=df_up['Ret']\n",
        "ce_binary = ce.BinaryEncoder(cols = ['contentSection'])\n",
        "x=ce_binary.fit_transform(x)"
      ],
      "execution_count": 0,
      "outputs": []
    },
    {
      "cell_type": "code",
      "metadata": {
        "id": "B5PfOvW8CCeu",
        "colab_type": "code",
        "outputId": "7a294901-405a-459a-cd4e-05a3c3541cc3",
        "colab": {
          "base_uri": "https://localhost:8080/",
          "height": 85
        }
      },
      "source": [
        "X_train, X_test, Y_train, Y_test = train_test_split(x, y, test_size=0.33)\n",
        "clf = clf.fit(X_train, Y_train)\n",
        "Y_pred=clf.predict(X_test)\n",
        "print(accuracy_score(Y_test, Y_pred, normalize=True))\n",
        "print(confusion_matrix(Y_test, Y_pred))\n",
        "print(precision_score(Y_test, Y_pred))"
      ],
      "execution_count": 123,
      "outputs": [
        {
          "output_type": "stream",
          "text": [
            "0.5855915863277826\n",
            "[[11869  2416]\n",
            " [ 9405  4835]]\n",
            "0.6668045786788029\n"
          ],
          "name": "stdout"
        }
      ]
    },
    {
      "cell_type": "code",
      "metadata": {
        "id": "FkYIlS5fYjo5",
        "colab_type": "code",
        "colab": {}
      },
      "source": [
        "from sklearn.naive_bayes import GaussianNB\n",
        "model = GaussianNB() #naive Bayes Alghorithm\n"
      ],
      "execution_count": 0,
      "outputs": []
    },
    {
      "cell_type": "code",
      "metadata": {
        "id": "KkLP3SGie_TR",
        "colab_type": "code",
        "outputId": "bbcd97b9-0537-4bbc-b617-b62e084adbb9",
        "colab": {
          "base_uri": "https://localhost:8080/",
          "height": 85
        }
      },
      "source": [
        "model.fit(X_train, Y_train)\n",
        "Y_pred=model.predict(X_test)\n",
        "print(accuracy_score(Y_test, Y_pred, normalize=True))\n",
        "print(confusion_matrix(Y_test, Y_pred))\n",
        "print(precision_score(Y_test, Y_pred))"
      ],
      "execution_count": 125,
      "outputs": [
        {
          "output_type": "stream",
          "text": [
            "0.547589833479404\n",
            "[[ 3564 10721]\n",
            " [ 2184 12056]]\n",
            "0.5293058787373227\n"
          ],
          "name": "stdout"
        }
      ]
    },
    {
      "cell_type": "code",
      "metadata": {
        "id": "R14PivZ4fThY",
        "colab_type": "code",
        "colab": {}
      },
      "source": [
        "dfna=df_up.dropna()\n",
        "X1=dfna['adblockerStatus']\n",
        "X2=dfna['browser']\n",
        "X3=dfna['city']\n",
        "X4=dfna['contentAuthor']\n",
        "X5=dfna['contentSection']\n",
        "X6=dfna['browser']\n",
        "\n",
        "X8=dfna['region']\n",
        "Y=dfna['Ret']\n",
        "\n",
        "X2=cvec.fit_transform(X2)\n",
        "X3=cvec.fit_transform(X3)\n",
        "X4=cvec.fit_transform(X4)\n",
        "X5=cvec.fit_transform(X5)\n",
        "X6=cvec.fit_transform(X6)\n",
        "\n",
        "X8=cvec.fit_transform(X8)\n",
        "from scipy.sparse import coo_matrix, vstack, hstack\n",
        "X=hstack([X2, X3, X4, X5, X6, X8])"
      ],
      "execution_count": 0,
      "outputs": []
    },
    {
      "cell_type": "code",
      "metadata": {
        "id": "Txvooti2f9Fh",
        "colab_type": "code",
        "outputId": "16aa7591-07b0-484f-a508-a791f6cf700a",
        "colab": {
          "base_uri": "https://localhost:8080/",
          "height": 85
        }
      },
      "source": [
        "X_train, X_test, Y_train, Y_test = train_test_split(x, y, test_size=0.33)\n",
        "clf = clf.fit(X_train, Y_train)\n",
        "Y_pred=clf.predict(X_test)\n",
        "print(accuracy_score(Y_test, Y_pred, normalize=True))\n",
        "print(confusion_matrix(Y_test, Y_pred))\n",
        "print(precision_score(Y_test, Y_pred))"
      ],
      "execution_count": 127,
      "outputs": [
        {
          "output_type": "stream",
          "text": [
            "0.5805083260297984\n",
            "[[10189  4041]\n",
            " [ 7925  6370]]\n",
            "0.6118528479492844\n"
          ],
          "name": "stdout"
        }
      ]
    },
    {
      "cell_type": "code",
      "metadata": {
        "id": "Y3IpPJ_XgH74",
        "colab_type": "code",
        "outputId": "007d063e-f005-4b3e-e355-f155102f9c12",
        "colab": {
          "base_uri": "https://localhost:8080/",
          "height": 85
        }
      },
      "source": [
        "model.fit(X_train, Y_train)\n",
        "Y_pred=model.predict(X_test)\n",
        "print(accuracy_score(Y_test, Y_pred, normalize=True))\n",
        "print(confusion_matrix(Y_test, Y_pred))\n",
        "print(precision_score(Y_test, Y_pred))"
      ],
      "execution_count": 128,
      "outputs": [
        {
          "output_type": "stream",
          "text": [
            "0.5441893076248905\n",
            "[[ 3454 10776]\n",
            " [ 2226 12069]]\n",
            "0.5282994090610637\n"
          ],
          "name": "stdout"
        }
      ]
    },
    {
      "cell_type": "code",
      "metadata": {
        "id": "1uA-1taqgMoL",
        "colab_type": "code",
        "outputId": "30840f05-12c4-4dda-91ee-d5c664bf3ff4",
        "colab": {
          "base_uri": "https://localhost:8080/",
          "height": 85
        }
      },
      "source": [
        "lr.fit(X_train, Y_train)\n",
        "Y_pred=lr.predict(X_test)\n",
        "print(accuracy_score(Y_test, Y_pred, normalize=True))\n",
        "print(confusion_matrix(Y_test, Y_pred))\n",
        "print(precision_score(Y_test, Y_pred))"
      ],
      "execution_count": 129,
      "outputs": [
        {
          "output_type": "stream",
          "text": [
            "0.59011393514461\n",
            "[[10233  3997]\n",
            " [ 7695  6600]]\n",
            "0.6228177786165896\n"
          ],
          "name": "stdout"
        }
      ]
    },
    {
      "cell_type": "code",
      "metadata": {
        "id": "Ckb6aQ7mgQp5",
        "colab_type": "code",
        "outputId": "e1e5aaa5-b441-4f6d-8a34-f5a75c940b76",
        "colab": {
          "base_uri": "https://localhost:8080/",
          "height": 68
        }
      },
      "source": [
        "from sklearn.neighbors import KNeighborsClassifier #knn for multiple features\n",
        "neigh = KNeighborsClassifier(n_neighbors=8)\n",
        "neigh.fit(X_train, Y_train) "
      ],
      "execution_count": 130,
      "outputs": [
        {
          "output_type": "execute_result",
          "data": {
            "text/plain": [
              "KNeighborsClassifier(algorithm='auto', leaf_size=30, metric='minkowski',\n",
              "                     metric_params=None, n_jobs=None, n_neighbors=8, p=2,\n",
              "                     weights='uniform')"
            ]
          },
          "metadata": {
            "tags": []
          },
          "execution_count": 130
        }
      ]
    },
    {
      "cell_type": "code",
      "metadata": {
        "id": "uEjrtIWjgmd6",
        "colab_type": "code",
        "outputId": "d4316969-f57b-4d46-b5fc-16ddfb04366a",
        "colab": {
          "base_uri": "https://localhost:8080/",
          "height": 85
        }
      },
      "source": [
        "Y_pred=neigh.predict(X_test) \n",
        "print(accuracy_score(Y_test, Y_pred, normalize=True))\n",
        "print(confusion_matrix(Y_test, Y_pred))\n",
        "print(precision_score(Y_test, Y_pred))"
      ],
      "execution_count": 131,
      "outputs": [
        {
          "output_type": "stream",
          "text": [
            "0.5883961437335671\n",
            "[[9561 4669]\n",
            " [7072 7223]]\n",
            "0.6073831146989572\n"
          ],
          "name": "stdout"
        }
      ]
    },
    {
      "cell_type": "code",
      "metadata": {
        "id": "SOPhvHUtkLQr",
        "colab_type": "code",
        "colab": {}
      },
      "source": [
        "from sklearn.feature_extraction.text import TfidfVectorizer #TF-IDF for embedding\n",
        "vectorizer = TfidfVectorizer()\n",
        "X1=dfna['adblockerStatus']\n",
        "X2=dfna['browser']\n",
        "X3=dfna['city']\n",
        "X4=dfna['contentAuthor']\n",
        "X5=dfna['contentSection']\n",
        "X6=dfna['browser']\n",
        "X8=dfna['region']\n",
        "Y=dfna['Ret']\n",
        "\n",
        "X2=vectorizer.fit_transform(X2)\n",
        "X3=vectorizer.fit_transform(X3)\n",
        "X4=vectorizer.fit_transform(X4)\n",
        "X5=vectorizer.fit_transform(X5)\n",
        "X6=vectorizer.fit_transform(X6)\n",
        "X8=vectorizer.fit_transform(X8)\n",
        "from scipy.sparse import coo_matrix, vstack, hstack\n",
        "X=hstack([X2, X3, X4, X5, X6, X8])"
      ],
      "execution_count": 0,
      "outputs": []
    },
    {
      "cell_type": "code",
      "metadata": {
        "id": "tJJzHADSkLXV",
        "colab_type": "code",
        "outputId": "c1fec99f-3dba-40a7-ad38-450598ec132a",
        "colab": {
          "base_uri": "https://localhost:8080/",
          "height": 85
        }
      },
      "source": [
        "X_train, X_test, Y_train, Y_test = train_test_split(x, y, test_size=0.33)\n",
        "clf = clf.fit(X_train, Y_train)\n",
        "Y_pred=clf.predict(X_test)\n",
        "print(accuracy_score(Y_test, Y_pred, normalize=True))\n",
        "print(confusion_matrix(Y_test, Y_pred))\n",
        "print(precision_score(Y_test, Y_pred))"
      ],
      "execution_count": 133,
      "outputs": [
        {
          "output_type": "stream",
          "text": [
            "0.5804732690622261\n",
            "[[11794  2489]\n",
            " [ 9478  4764]]\n",
            "0.656831655866538\n"
          ],
          "name": "stdout"
        }
      ]
    },
    {
      "cell_type": "code",
      "metadata": {
        "id": "fReTLRjtkLd7",
        "colab_type": "code",
        "outputId": "f6bed340-5fa5-4b78-f026-85e7674590c1",
        "colab": {
          "base_uri": "https://localhost:8080/",
          "height": 85
        }
      },
      "source": [
        "model.fit(X_train, Y_train)\n",
        "Y_pred=model.predict(X_test)\n",
        "print(accuracy_score(Y_test, Y_pred, normalize=True))\n",
        "print(confusion_matrix(Y_test, Y_pred))\n",
        "print(precision_score(Y_test, Y_pred))"
      ],
      "execution_count": 134,
      "outputs": [
        {
          "output_type": "stream",
          "text": [
            "0.5474145486415425\n",
            "[[ 3694 10589]\n",
            " [ 2321 11921]]\n",
            "0.5295868502887605\n"
          ],
          "name": "stdout"
        }
      ]
    },
    {
      "cell_type": "code",
      "metadata": {
        "id": "hPTmt2ZilNQ-",
        "colab_type": "code",
        "outputId": "4a5f2843-6ffd-4cab-bd07-03907597bfb8",
        "colab": {
          "base_uri": "https://localhost:8080/",
          "height": 85
        }
      },
      "source": [
        "neigh.fit(X_train, Y_train)\n",
        "Y_pred=neigh.predict(X_test)\n",
        "print(accuracy_score(Y_test, Y_pred, normalize=True))\n",
        "print(confusion_matrix(Y_test, Y_pred))\n",
        "print(precision_score(Y_test, Y_pred))"
      ],
      "execution_count": 135,
      "outputs": [
        {
          "output_type": "stream",
          "text": [
            "0.5582471516213847\n",
            "[[6884 7399]\n",
            " [5202 9040]]\n",
            "0.5499117951213578\n"
          ],
          "name": "stdout"
        }
      ]
    },
    {
      "cell_type": "code",
      "metadata": {
        "id": "HPuNz-dflgUz",
        "colab_type": "code",
        "outputId": "dd2a982e-687b-4e99-8a67-8f6f4fbae86f",
        "colab": {
          "base_uri": "https://localhost:8080/",
          "height": 85
        }
      },
      "source": [
        "lr.fit(X_train, Y_train)\n",
        "Y_pred=lr.predict(X_test)\n",
        "print(accuracy_score(Y_test, Y_pred, normalize=True))\n",
        "print(confusion_matrix(Y_test, Y_pred))\n",
        "print(precision_score(Y_test, Y_pred))"
      ],
      "execution_count": 136,
      "outputs": [
        {
          "output_type": "stream",
          "text": [
            "0.590920245398773\n",
            "[[10193  4090]\n",
            " [ 7579  6663]]\n",
            "0.6196410304101181\n"
          ],
          "name": "stdout"
        }
      ]
    },
    {
      "cell_type": "code",
      "metadata": {
        "id": "oy7M8hb_hrKP",
        "colab_type": "code",
        "colab": {}
      },
      "source": [
        "from sklearn.feature_extraction.text import FeatureHasher #feature hashing\n",
        "hasher = FeatureHasher(input_type='string')\n",
        "\n",
        "X1=dfna['adblockerStatus']\n",
        "X2=dfna['browser']\n",
        "X3=dfna['city']\n",
        "X4=dfna['contentAuthor']\n",
        "X5=dfna['contentSection']\n",
        "X6=dfna['browser']\n",
        "X8=dfna['region']\n",
        "Y=dfna['Ret']\n",
        "\n",
        "X2=hasher.fit_transform(X2)\n",
        "X3=hasher.fit_transform(X3)\n",
        "X4=hasher.fit_transform(X4)\n",
        "X5=hasher.fit_transform(X5)\n",
        "X6=hasher.fit_transform(X6)\n",
        "X8=hasher.fit_transform(X8)\n",
        "from scipy.sparse import coo_matrix, vstack, hstack\n",
        "X=hstack([X2, X3, X4, X5, X6, X8])"
      ],
      "execution_count": 0,
      "outputs": []
    },
    {
      "cell_type": "code",
      "metadata": {
        "id": "zPk_4IxNmdcL",
        "colab_type": "code",
        "outputId": "7edae948-8689-405a-c35e-0f5795afcb6a",
        "colab": {
          "base_uri": "https://localhost:8080/",
          "height": 85
        }
      },
      "source": [
        "X_train, X_test, Y_train, Y_test = train_test_split(x, y, test_size=0.33) #for all of  the 5 alghorithms\n",
        "clf = clf.fit(X_train, Y_train)\n",
        "Y_pred=clf.predict(X_test)\n",
        "print(accuracy_score(Y_test, Y_pred, normalize=True))\n",
        "print(confusion_matrix(Y_test, Y_pred))\n",
        "print(precision_score(Y_test, Y_pred))"
      ],
      "execution_count": 138,
      "outputs": [
        {
          "output_type": "stream",
          "text": [
            "0.5845048203330412\n",
            "[[11868  2456]\n",
            " [ 9396  4805]]\n",
            "0.6617545792590552\n"
          ],
          "name": "stdout"
        }
      ]
    },
    {
      "cell_type": "code",
      "metadata": {
        "id": "9IyJcNxImik1",
        "colab_type": "code",
        "outputId": "5c42bc17-8991-4997-b5de-5308e9a640af",
        "colab": {
          "base_uri": "https://localhost:8080/",
          "height": 85
        }
      },
      "source": [
        "model.fit(X_train, Y_train)\n",
        "Y_pred=model.predict(X_test)\n",
        "print(accuracy_score(Y_test, Y_pred, normalize=True))\n",
        "print(confusion_matrix(Y_test, Y_pred))\n",
        "print(precision_score(Y_test, Y_pred))"
      ],
      "execution_count": 139,
      "outputs": [
        {
          "output_type": "stream",
          "text": [
            "0.548396143733567\n",
            "[[ 3623 10701]\n",
            " [ 2181 12020]]\n",
            "0.5290260111790854\n"
          ],
          "name": "stdout"
        }
      ]
    },
    {
      "cell_type": "code",
      "metadata": {
        "id": "2mCGcQ4UmliP",
        "colab_type": "code",
        "outputId": "bf844288-36c7-4654-f60f-39aca5068fae",
        "colab": {
          "base_uri": "https://localhost:8080/",
          "height": 85
        }
      },
      "source": [
        "neigh.fit(X_train, Y_train)\n",
        "Y_pred=neigh.predict(X_test)\n",
        "print(accuracy_score(Y_test, Y_pred, normalize=True))\n",
        "print(confusion_matrix(Y_test, Y_pred))\n",
        "print(precision_score(Y_test, Y_pred))"
      ],
      "execution_count": 140,
      "outputs": [
        {
          "output_type": "stream",
          "text": [
            "0.5960035056967572\n",
            "[[8686 5638]\n",
            " [5886 8315]]\n",
            "0.5959291908550133\n"
          ],
          "name": "stdout"
        }
      ]
    },
    {
      "cell_type": "code",
      "metadata": {
        "id": "_a_iYjzXmna4",
        "colab_type": "code",
        "outputId": "1f345bcc-411e-49d9-f701-c091a6c4855f",
        "colab": {
          "base_uri": "https://localhost:8080/",
          "height": 85
        }
      },
      "source": [
        "lr.fit(X_train, Y_train)\n",
        "Y_pred=lr.predict(X_test)\n",
        "print(accuracy_score(Y_test, Y_pred, normalize=True))\n",
        "print(confusion_matrix(Y_test, Y_pred))\n",
        "print(precision_score(Y_test, Y_pred))"
      ],
      "execution_count": 141,
      "outputs": [
        {
          "output_type": "stream",
          "text": [
            "0.5949167397020158\n",
            "[[10299  4025]\n",
            " [ 7530  6671]]\n",
            "0.6236910994764397\n"
          ],
          "name": "stdout"
        }
      ]
    },
    {
      "cell_type": "code",
      "metadata": {
        "id": "0M4udCg8mpME",
        "colab_type": "code",
        "outputId": "7a3b3854-2d81-40b5-ba5a-a27481f1b95a",
        "colab": {
          "base_uri": "https://localhost:8080/",
          "height": 85
        }
      },
      "source": [
        "X=dfna['hour']\n",
        "X_train, X_test, Y_train, Y_test = train_test_split(x, y, test_size=0.33)\n",
        "clf = clf.fit(X_train, Y_train)\n",
        "Y_pred=clf.predict(X_test)\n",
        "print(accuracy_score(Y_test, Y_pred, normalize=True))\n",
        "print(confusion_matrix(Y_test, Y_pred))\n",
        "print(precision_score(Y_test, Y_pred))\n",
        "\n"
      ],
      "execution_count": 142,
      "outputs": [
        {
          "output_type": "stream",
          "text": [
            "0.579070990359334\n",
            "[[10155  4071]\n",
            " [ 7936  6363]]\n",
            "0.6098332374928119\n"
          ],
          "name": "stdout"
        }
      ]
    },
    {
      "cell_type": "code",
      "metadata": {
        "id": "8aFS1DFxoE9s",
        "colab_type": "code",
        "colab": {}
      },
      "source": [
        "dfna"
      ],
      "execution_count": 0,
      "outputs": []
    },
    {
      "cell_type": "code",
      "metadata": {
        "id": "LkE3R_qv8t9i",
        "colab_type": "code",
        "colab": {}
      },
      "source": [
        "x=df_up[['adblockerStatus', 'browser', 'browserId', 'city', 'content',\n",
        "       'contentAuthor', 'contentSection', 'hour', 'isFirstVisit', 'isNewVisit',\n",
        "       'parsedReferrerId', 'region']]\n",
        "y=df_up['Ret']\n",
        "X_train, X_test, y_train, y_test = train_test_split(x, y, test_size=0.33)"
      ],
      "execution_count": 0,
      "outputs": []
    },
    {
      "cell_type": "code",
      "metadata": {
        "id": "DKm8Burp7dL0",
        "colab_type": "code",
        "outputId": "9c5425fe-bb6d-462d-9e01-13894ee24c4d",
        "colab": {
          "base_uri": "https://localhost:8080/",
          "height": 85
        }
      },
      "source": [
        "from sklearn.feature_extraction import FeatureHasher\n",
        "from sklearn.metrics import log_loss\n",
        "X_train_hash = X_train\n",
        "X_test_hash = X_test\n",
        "for i in range(X_train_hash.shape[1]):\n",
        "    X_train_hash.iloc[:,i]=X_train_hash.iloc[:,i].astype('str')\n",
        "for i in range(X_test_hash.shape[1]):\n",
        "    X_test_hash.iloc[:,i]=X_test_hash.iloc[:,i].astype('str')\n",
        "h = FeatureHasher(n_features=100,input_type=\"string\")\n",
        "X_train_hash = h.transform(X_train_hash.values)\n",
        "X_test_hash = h.transform(X_test_hash.values)\n",
        "lr.fit(X_train_hash,y_train)\n",
        "y_pred = lr.predict(X_test_hash)\n",
        "print(accuracy_score(y_test, y_pred, normalize=True))\n",
        "print(confusion_matrix(y_test, y_pred))\n",
        "print(precision_score(y_test, y_pred))\n"
      ],
      "execution_count": 145,
      "outputs": [
        {
          "output_type": "stream",
          "text": [
            "0.6107274320771253\n",
            "[[8835 5434]\n",
            " [5670 8586]]\n",
            "0.6124108416547789\n"
          ],
          "name": "stdout"
        }
      ]
    },
    {
      "cell_type": "code",
      "metadata": {
        "id": "MEP-g2rJ9imi",
        "colab_type": "code",
        "outputId": "56c4c672-8c90-4ffe-d96c-c09159d0ada3",
        "colab": {
          "base_uri": "https://localhost:8080/",
          "height": 85
        }
      },
      "source": [
        "clf.fit(X_train_hash,y_train)\n",
        "y_pred = clf.predict(X_test_hash)\n",
        "print(accuracy_score(y_test, y_pred, normalize=True))\n",
        "print(confusion_matrix(y_test, y_pred))\n",
        "print(precision_score(y_test, y_pred))\n"
      ],
      "execution_count": 151,
      "outputs": [
        {
          "output_type": "stream",
          "text": [
            "0.5751446099912357\n",
            "[[12887  1382]\n",
            " [10737  3519]]\n",
            "0.7180167312793307\n"
          ],
          "name": "stdout"
        }
      ]
    },
    {
      "cell_type": "code",
      "metadata": {
        "id": "dpi1F0x1AkYC",
        "colab_type": "code",
        "outputId": "cd8eed15-18a9-4a9f-cf43-672e9b44a962",
        "colab": {
          "base_uri": "https://localhost:8080/",
          "height": 85
        }
      },
      "source": [
        "neigh.fit(X_train_hash, y_train)\n",
        "y_pred=neigh.predict(X_test_hash)\n",
        "print(accuracy_score(y_test, y_pred, normalize=True))\n",
        "print(confusion_matrix(y_test, y_pred))\n",
        "print(precision_score(y_test, y_pred))\n"
      ],
      "execution_count": 147,
      "outputs": [
        {
          "output_type": "stream",
          "text": [
            "0.6182646801051709\n",
            "[[9636 4633]\n",
            " [6256 8000]]\n",
            "0.6332620913480567\n"
          ],
          "name": "stdout"
        }
      ]
    },
    {
      "cell_type": "code",
      "metadata": {
        "id": "COkgvox8Ak6z",
        "colab_type": "code",
        "outputId": "754bff74-8a2c-434c-c8bf-45adde7f20d8",
        "colab": {
          "base_uri": "https://localhost:8080/",
          "height": 85
        }
      },
      "source": [
        "X_train_count = X_train\n",
        "X_test_count = X_test\n",
        "X_train_count[\"test\"]=0\n",
        "X_test_count[\"test\"]=1\n",
        "temp_df = pd.concat([X_train_count,X_test_count],axis=0)\n",
        "for i in range(temp_df.shape[1]):\n",
        "    temp_df.iloc[:,i]=temp_df.iloc[:,i].astype('category')\n",
        "X_train_count=temp_df[temp_df[\"test\"]==0].iloc[:,:-1]\n",
        "X_test_count=temp_df[temp_df[\"test\"]==1].iloc[:,:-1]\n",
        "for i in range(X_train_count.shape[1]):\n",
        "    counts = X_train_count.iloc[:,i].value_counts()\n",
        "    counts = counts.sort_index()\n",
        "    counts = counts.fillna(0)\n",
        "    counts += np.random.rand(len(counts))/1000\n",
        "    X_train_count.iloc[:,i].cat.categories = counts\n",
        "    X_test_count.iloc[:,i].cat.categories = counts\n",
        "                       \n",
        "lr.fit(X_train_count,y_train)\n",
        "y_pred = lr.predict(X_test_count)\n",
        "print(accuracy_score(y_test, y_pred, normalize=True))\n",
        "print(confusion_matrix(y_test, y_pred))\n",
        "print(precision_score(y_test, y_pred))\n",
        "\n"
      ],
      "execution_count": 153,
      "outputs": [
        {
          "output_type": "stream",
          "text": [
            "0.587239263803681\n",
            "[[13022  1247]\n",
            " [10527  3729]]\n",
            "0.7493971061093248\n"
          ],
          "name": "stdout"
        }
      ]
    },
    {
      "cell_type": "code",
      "metadata": {
        "id": "_VDL39mmVZjU",
        "colab_type": "code",
        "colab": {
          "base_uri": "https://localhost:8080/",
          "height": 85
        },
        "outputId": "71962412-41a1-4f33-cb49-e9c0c01de6c5"
      },
      "source": [
        "clf.fit(X_train_count, y_train)\n",
        "y_pred = clf.predict(X_test_count)\n",
        "print(accuracy_score(y_test, y_pred, normalize=True))\n",
        "print(confusion_matrix(y_test, y_pred))\n",
        "print(precision_score(y_test, y_pred))"
      ],
      "execution_count": 152,
      "outputs": [
        {
          "output_type": "stream",
          "text": [
            "0.6005609114811569\n",
            "[[12810  1459]\n",
            " [ 9935  4321]]\n",
            "0.7475778546712802\n"
          ],
          "name": "stdout"
        }
      ]
    },
    {
      "cell_type": "code",
      "metadata": {
        "id": "9eRzRtXxCcm2",
        "colab_type": "code",
        "outputId": "4754f2c0-74b2-4230-8a5f-1f66db9b84e8",
        "colab": {
          "base_uri": "https://localhost:8080/",
          "height": 85
        }
      },
      "source": [
        "model.fit(X_train_count,y_train)\n",
        "y_pred = model.predict(X_test_count)\n",
        "print(accuracy_score(y_test, y_pred, normalize=True))\n",
        "print(confusion_matrix(y_test, y_pred))\n",
        "print(precision_score(y_test, y_pred))\n"
      ],
      "execution_count": 149,
      "outputs": [
        {
          "output_type": "stream",
          "text": [
            "0.5814548641542506\n",
            "[[12676  1593]\n",
            " [10346  3910]]\n",
            "0.710521533708886\n"
          ],
          "name": "stdout"
        }
      ]
    },
    {
      "cell_type": "code",
      "metadata": {
        "id": "XzSMrKa_FzC7",
        "colab_type": "code",
        "outputId": "87edf4ef-b028-4e41-a2c6-317f0ae6e647",
        "colab": {
          "base_uri": "https://localhost:8080/",
          "height": 85
        }
      },
      "source": [
        "neigh.fit(X_train_count, y_train)\n",
        "y_pred=neigh.predict(X_test_count)\n",
        "print(accuracy_score(y_test, y_pred, normalize=True))\n",
        "print(confusion_matrix(y_test, y_pred))\n",
        "print(precision_score(y_test, y_pred))\n"
      ],
      "execution_count": 150,
      "outputs": [
        {
          "output_type": "stream",
          "text": [
            "0.6167221735319894\n",
            "[[10010  4259]\n",
            " [ 6674  7582]]\n",
            "0.6403175407482476\n"
          ],
          "name": "stdout"
        }
      ]
    },
    {
      "cell_type": "code",
      "metadata": {
        "id": "VmT9H09JF5SU",
        "colab_type": "code",
        "outputId": "3df8dd30-f472-426c-e96a-e0bf19fd1111",
        "colab": {
          "base_uri": "https://localhost:8080/",
          "height": 68
        }
      },
      "source": [
        "df_majority = df[df['Ret']==False] #balancing our dataset with increased number of samples\n",
        "df_minority = df[df['Ret']==True]\n",
        "# resample minority class\n",
        "\n",
        "from sklearn.utils import resample\n",
        "df_minority_upsampled = resample(df_minority, \n",
        "                                 replace=True,     \n",
        "                                 n_samples=1044892, random_state=123)   \n",
        "df_up = pd.concat([df_majority, df_minority_upsampled])\n",
        "df_up['Ret'].value_counts() #resampled dataframe"
      ],
      "execution_count": 154,
      "outputs": [
        {
          "output_type": "execute_result",
          "data": {
            "text/plain": [
              "True     1044892\n",
              "False    1044892\n",
              "Name: Ret, dtype: int64"
            ]
          },
          "metadata": {
            "tags": []
          },
          "execution_count": 154
        }
      ]
    },
    {
      "cell_type": "code",
      "metadata": {
        "id": "MZvj_Tj8H0of",
        "colab_type": "code",
        "colab": {}
      },
      "source": [
        "x=df_up[['adblockerStatus', 'browser', 'browserId', 'city', 'content',\n",
        "       'contentAuthor', 'contentSection', 'hour', 'isFirstVisit', 'isNewVisit',\n",
        "       'parsedReferrerId', 'region']]\n",
        "y=df_up['Ret']\n",
        "X_train, X_test, y_train, y_test = train_test_split(x, y, test_size=0.33)"
      ],
      "execution_count": 0,
      "outputs": []
    },
    {
      "cell_type": "code",
      "metadata": {
        "id": "jVs-meaeH4mM",
        "colab_type": "code",
        "colab": {}
      },
      "source": [
        "from sklearn.feature_extraction import FeatureHasher\n",
        "from sklearn.metrics import log_loss\n",
        "X_train_hash = X_train\n",
        "X_test_hash = X_test\n",
        "for i in range(X_train_hash.shape[1]):\n",
        "    X_train_hash.iloc[:,i]=X_train_hash.iloc[:,i].astype('str')\n",
        "for i in range(X_test_hash.shape[1]):\n",
        "    X_test_hash.iloc[:,i]=X_test_hash.iloc[:,i].astype('str')\n",
        "h = FeatureHasher(n_features=100,input_type=\"string\")\n",
        "X_train_hash = h.transform(X_train_hash.values)\n",
        "X_test_hash = h.transform(X_test_hash.values)\n",
        "lr.fit(X_train_hash,y_train)\n",
        "y_pred = lr.predict(X_test_hash)\n",
        "print(accuracy_score(y_test, y_pred, normalize=True))\n",
        "print(confusion_matrix(y_test, y_pred))\n",
        "print(precision_score(y_test, y_pred))\n"
      ],
      "execution_count": 0,
      "outputs": []
    },
    {
      "cell_type": "code",
      "metadata": {
        "id": "YYoijs6iH-pK",
        "colab_type": "code",
        "colab": {}
      },
      "source": [
        "neigh.fit(X_train_hash, y_train)\n",
        "y_pred=neigh.predict(X_test_hash)\n",
        "accuracy_score(y_test, y_pred, normalize=True)"
      ],
      "execution_count": 0,
      "outputs": []
    },
    {
      "cell_type": "code",
      "metadata": {
        "id": "6vlSEUr9V2fU",
        "colab_type": "code",
        "colab": {}
      },
      "source": [
        ""
      ],
      "execution_count": 0,
      "outputs": []
    },
    {
      "cell_type": "code",
      "metadata": {
        "id": "Njhc0PcPIggn",
        "colab_type": "code",
        "colab": {}
      },
      "source": [
        ""
      ],
      "execution_count": 0,
      "outputs": []
    }
  ]
}